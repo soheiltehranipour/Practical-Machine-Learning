{
 "cells": [
  {
   "cell_type": "markdown",
   "metadata": {},
   "source": [
    "<div class=\"alert alert-block alert-success\">\n",
    "    <h1 align=\"center\">Scikit-Learn Tips</h1>\n",
    "    <h3 align=\"center\">Tip 19 : Syntethic data - Part 1</h3>\n",
    "    <h4 align=\"center\"><a href=\"http://www.iran-machinelearning.ir\">Soheil Tehranipour</a></h5>\n",
    "</div>\n",
    "\n",
    "Generate a random n-class classification problem.\n",
    "\n",
    "Imagine you just learned about a new classification algorithm. And you want to explore it further. Maybe you’d like to try out its hyperparameters to see how they affect performance.\n",
    "\n",
    "The only problem is - you can’t find a good dataset to experiment with.\n",
    "\n",
    "Don’t fret. Scikit-Learn has written a function just for you!\n",
    "\n",
    "You can use make_classification() to create a variety of classification datasets. Here are a few possibilities:\n",
    "\n",
    "* Generate binary or multiclass labels.\n",
    "* Create labels with balanced or imbalanced classes.\n",
    "\n",
    "Let’s create a few such datasets. We’ll also build RandomForestClassifier models to classify a few of them."
   ]
  },
  {
   "cell_type": "code",
   "execution_count": 10,
   "metadata": {},
   "outputs": [],
   "source": [
    "from sklearn.datasets import make_classification\n",
    "\n",
    "X, y = make_classification(\n",
    "    n_samples=1000, # 1000 observations \n",
    "    n_features=5, # 5 total features\n",
    "    n_informative=3, # 3 'useful' features\n",
    "    n_classes=2, # binary target/label \n",
    "    random_state=85 # if you want the same results as mine\n",
    ")"
   ]
  },
  {
   "cell_type": "markdown",
   "metadata": {},
   "source": [
    "Here are the basic input parameters for the function make_classification():\n",
    "\n",
    "* n_samples: How many observations do you want to generate?\n",
    "* n_features: The number of numerical features.\n",
    "* n_informative: The number of features that are ‘useful.’ Only these features carry the signal that your model will use to classify the dataset.\n",
    "* n_classes: The number of unique classes (values) for the target label.\n"
   ]
  },
  {
   "cell_type": "code",
   "execution_count": 11,
   "metadata": {},
   "outputs": [
    {
     "name": "stdout",
     "output_type": "stream",
     "text": [
      "<class 'pandas.core.frame.DataFrame'>\n",
      "RangeIndex: 1000 entries, 0 to 999\n",
      "Data columns (total 6 columns):\n",
      " #   Column  Non-Null Count  Dtype  \n",
      "---  ------  --------------  -----  \n",
      " 0   X1      1000 non-null   float64\n",
      " 1   X2      1000 non-null   float64\n",
      " 2   X3      1000 non-null   float64\n",
      " 3   X4      1000 non-null   float64\n",
      " 4   X5      1000 non-null   float64\n",
      " 5   y       1000 non-null   int32  \n",
      "dtypes: float64(5), int32(1)\n",
      "memory usage: 43.1 KB\n"
     ]
    }
   ],
   "source": [
    "import pandas as pd\n",
    "dataset = pd.DataFrame(X)\n",
    "dataset.columns = ['X1', 'X2', 'X3', 'X4', 'X5']\n",
    "dataset['y'] = y\n",
    "dataset.info()"
   ]
  },
  {
   "cell_type": "code",
   "execution_count": 12,
   "metadata": {},
   "outputs": [
    {
     "data": {
      "text/plain": [
       "1    508\n",
       "0    492\n",
       "Name: y, dtype: int64"
      ]
     },
     "execution_count": 12,
     "metadata": {},
     "output_type": "execute_result"
    }
   ],
   "source": [
    "dataset['y'].value_counts()"
   ]
  },
  {
   "cell_type": "code",
   "execution_count": 13,
   "metadata": {},
   "outputs": [
    {
     "data": {
      "text/html": [
       "<div>\n",
       "<style scoped>\n",
       "    .dataframe tbody tr th:only-of-type {\n",
       "        vertical-align: middle;\n",
       "    }\n",
       "\n",
       "    .dataframe tbody tr th {\n",
       "        vertical-align: top;\n",
       "    }\n",
       "\n",
       "    .dataframe thead th {\n",
       "        text-align: right;\n",
       "    }\n",
       "</style>\n",
       "<table border=\"1\" class=\"dataframe\">\n",
       "  <thead>\n",
       "    <tr style=\"text-align: right;\">\n",
       "      <th></th>\n",
       "      <th>X1</th>\n",
       "      <th>X2</th>\n",
       "      <th>X3</th>\n",
       "      <th>X4</th>\n",
       "      <th>X5</th>\n",
       "      <th>y</th>\n",
       "    </tr>\n",
       "  </thead>\n",
       "  <tbody>\n",
       "    <tr>\n",
       "      <th>0</th>\n",
       "      <td>-0.771350</td>\n",
       "      <td>-1.301386</td>\n",
       "      <td>1.535153</td>\n",
       "      <td>-0.931661</td>\n",
       "      <td>1.395875</td>\n",
       "      <td>0</td>\n",
       "    </tr>\n",
       "    <tr>\n",
       "      <th>1</th>\n",
       "      <td>0.149792</td>\n",
       "      <td>1.397874</td>\n",
       "      <td>-1.917018</td>\n",
       "      <td>0.423957</td>\n",
       "      <td>-1.596891</td>\n",
       "      <td>1</td>\n",
       "    </tr>\n",
       "    <tr>\n",
       "      <th>2</th>\n",
       "      <td>1.256057</td>\n",
       "      <td>0.870594</td>\n",
       "      <td>-0.624548</td>\n",
       "      <td>1.268236</td>\n",
       "      <td>-0.629394</td>\n",
       "      <td>0</td>\n",
       "    </tr>\n",
       "    <tr>\n",
       "      <th>3</th>\n",
       "      <td>0.962549</td>\n",
       "      <td>2.049226</td>\n",
       "      <td>-0.902791</td>\n",
       "      <td>1.488852</td>\n",
       "      <td>0.667549</td>\n",
       "      <td>0</td>\n",
       "    </tr>\n",
       "    <tr>\n",
       "      <th>4</th>\n",
       "      <td>0.000505</td>\n",
       "      <td>-1.131726</td>\n",
       "      <td>2.040444</td>\n",
       "      <td>-0.175372</td>\n",
       "      <td>2.101964</td>\n",
       "      <td>0</td>\n",
       "    </tr>\n",
       "  </tbody>\n",
       "</table>\n",
       "</div>"
      ],
      "text/plain": [
       "         X1        X2        X3        X4        X5  y\n",
       "0 -0.771350 -1.301386  1.535153 -0.931661  1.395875  0\n",
       "1  0.149792  1.397874 -1.917018  0.423957 -1.596891  1\n",
       "2  1.256057  0.870594 -0.624548  1.268236 -0.629394  0\n",
       "3  0.962549  2.049226 -0.902791  1.488852  0.667549  0\n",
       "4  0.000505 -1.131726  2.040444 -0.175372  2.101964  0"
      ]
     },
     "execution_count": 13,
     "metadata": {},
     "output_type": "execute_result"
    }
   ],
   "source": [
    "dataset.head()"
   ]
  },
  {
   "cell_type": "code",
   "execution_count": 14,
   "metadata": {},
   "outputs": [
    {
     "data": {
      "text/plain": [
       "fit_time          0.2841\n",
       "score_time        0.0124\n",
       "test_accuracy     0.8230\n",
       "test_precision    0.8186\n",
       "test_recall       0.8385\n",
       "test_f1           0.8275\n",
       "dtype: float64"
      ]
     },
     "execution_count": 14,
     "metadata": {},
     "output_type": "execute_result"
    }
   ],
   "source": [
    "from sklearn.ensemble import RandomForestClassifier\n",
    "from sklearn.model_selection import cross_validate\n",
    "\n",
    "# initialize classifier\n",
    "classifier = RandomForestClassifier() \n",
    "\n",
    "# Run cross validation with 10 folds\n",
    "scores = cross_validate(\n",
    "    classifier, X, y, cv=10, \n",
    "    # measure score for a list of classification metrics\n",
    "    scoring=['accuracy', 'precision', 'recall', 'f1']\n",
    ")\n",
    "\n",
    "scores = pd.DataFrame(scores)\n",
    "scores.mean().round(4)"
   ]
  },
  {
   "cell_type": "markdown",
   "metadata": {},
   "source": [
    "## Imbalanced Dataset"
   ]
  },
  {
   "cell_type": "code",
   "execution_count": 15,
   "metadata": {},
   "outputs": [],
   "source": [
    "X, y = make_classification(\n",
    "    # the usual parameters\n",
    "    n_samples=1000, n_features=5, n_informative=3, n_classes=2, \n",
    "    # Set label 0 for  97% and 1 for rest 3% of observations\n",
    "    weights=[0.97], \n",
    ")"
   ]
  },
  {
   "cell_type": "code",
   "execution_count": 16,
   "metadata": {},
   "outputs": [
    {
     "data": {
      "text/plain": [
       "0    964\n",
       "1     36\n",
       "dtype: int64"
      ]
     },
     "execution_count": 16,
     "metadata": {},
     "output_type": "execute_result"
    }
   ],
   "source": [
    "pd.DataFrame(y).value_counts()"
   ]
  },
  {
   "cell_type": "markdown",
   "metadata": {},
   "source": [
    "## Multiclass Dataset 🔗"
   ]
  },
  {
   "cell_type": "code",
   "execution_count": 17,
   "metadata": {},
   "outputs": [],
   "source": [
    "X, y = make_classification(\n",
    "    # same parameters as usual \n",
    "    n_samples=1000, n_features=5, n_informative=3,\n",
    "    # create target label with 3 classes\n",
    "    n_classes=3, \n",
    ")"
   ]
  },
  {
   "cell_type": "code",
   "execution_count": 18,
   "metadata": {},
   "outputs": [
    {
     "data": {
      "text/plain": [
       "1    334\n",
       "0    333\n",
       "2    333\n",
       "dtype: int64"
      ]
     },
     "execution_count": 18,
     "metadata": {},
     "output_type": "execute_result"
    }
   ],
   "source": [
    "pd.DataFrame(y).value_counts()"
   ]
  },
  {
   "cell_type": "markdown",
   "metadata": {},
   "source": [
    "<img src=\"https://webna.ir/wp-content/uploads/2018/08/%D9%85%DA%A9%D8%AA%D8%A8-%D8%AE%D9%88%D9%86%D9%87.png\" width=50% />"
   ]
  }
 ],
 "metadata": {
  "kernelspec": {
   "display_name": "Python 3 (ipykernel)",
   "language": "python",
   "name": "python3"
  },
  "language_info": {
   "codemirror_mode": {
    "name": "ipython",
    "version": 3
   },
   "file_extension": ".py",
   "mimetype": "text/x-python",
   "name": "python",
   "nbconvert_exporter": "python",
   "pygments_lexer": "ipython3",
   "version": "3.9.13"
  }
 },
 "nbformat": 4,
 "nbformat_minor": 4
}
