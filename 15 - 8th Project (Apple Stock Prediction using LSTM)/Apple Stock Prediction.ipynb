{
 "cells": [
  {
   "cell_type": "code",
   "execution_count": 8,
   "id": "5afd42a5",
   "metadata": {},
   "outputs": [],
   "source": [
    "import numpy as np\n",
    "import pandas as pd\n",
    "import matplotlib.pyplot as plt\n",
    "from sklearn.preprocessing import MinMaxScaler"
   ]
  },
  {
   "cell_type": "code",
   "execution_count": 26,
   "id": "3a26cb49",
   "metadata": {},
   "outputs": [],
   "source": [
    "apple_complete = pd.read_csv(r\"C:/Users/soso/Desktop/AAPL.csv\")"
   ]
  },
  {
   "cell_type": "code",
   "execution_count": 27,
   "id": "bb0a4292",
   "metadata": {},
   "outputs": [
    {
     "data": {
      "text/html": [
       "<div>\n",
       "<style scoped>\n",
       "    .dataframe tbody tr th:only-of-type {\n",
       "        vertical-align: middle;\n",
       "    }\n",
       "\n",
       "    .dataframe tbody tr th {\n",
       "        vertical-align: top;\n",
       "    }\n",
       "\n",
       "    .dataframe thead th {\n",
       "        text-align: right;\n",
       "    }\n",
       "</style>\n",
       "<table border=\"1\" class=\"dataframe\">\n",
       "  <thead>\n",
       "    <tr style=\"text-align: right;\">\n",
       "      <th></th>\n",
       "      <th>Date</th>\n",
       "      <th>Open</th>\n",
       "      <th>High</th>\n",
       "      <th>Low</th>\n",
       "      <th>Close</th>\n",
       "      <th>Adj Close</th>\n",
       "      <th>Volume</th>\n",
       "    </tr>\n",
       "  </thead>\n",
       "  <tbody>\n",
       "    <tr>\n",
       "      <th>0</th>\n",
       "      <td>2013-01-02</td>\n",
       "      <td>19.779285</td>\n",
       "      <td>19.821428</td>\n",
       "      <td>19.343929</td>\n",
       "      <td>19.608213</td>\n",
       "      <td>16.890797</td>\n",
       "      <td>560518000</td>\n",
       "    </tr>\n",
       "    <tr>\n",
       "      <th>1</th>\n",
       "      <td>2013-01-03</td>\n",
       "      <td>19.567142</td>\n",
       "      <td>19.631071</td>\n",
       "      <td>19.321428</td>\n",
       "      <td>19.360714</td>\n",
       "      <td>16.677595</td>\n",
       "      <td>352965200</td>\n",
       "    </tr>\n",
       "    <tr>\n",
       "      <th>2</th>\n",
       "      <td>2013-01-04</td>\n",
       "      <td>19.177500</td>\n",
       "      <td>19.236786</td>\n",
       "      <td>18.779642</td>\n",
       "      <td>18.821428</td>\n",
       "      <td>16.213051</td>\n",
       "      <td>594333600</td>\n",
       "    </tr>\n",
       "    <tr>\n",
       "      <th>3</th>\n",
       "      <td>2013-01-07</td>\n",
       "      <td>18.642857</td>\n",
       "      <td>18.903570</td>\n",
       "      <td>18.400000</td>\n",
       "      <td>18.710714</td>\n",
       "      <td>16.117674</td>\n",
       "      <td>484156400</td>\n",
       "    </tr>\n",
       "    <tr>\n",
       "      <th>4</th>\n",
       "      <td>2013-01-08</td>\n",
       "      <td>18.900356</td>\n",
       "      <td>18.996071</td>\n",
       "      <td>18.616072</td>\n",
       "      <td>18.761070</td>\n",
       "      <td>16.161053</td>\n",
       "      <td>458707200</td>\n",
       "    </tr>\n",
       "  </tbody>\n",
       "</table>\n",
       "</div>"
      ],
      "text/plain": [
       "         Date       Open       High        Low      Close  Adj Close  \\\n",
       "0  2013-01-02  19.779285  19.821428  19.343929  19.608213  16.890797   \n",
       "1  2013-01-03  19.567142  19.631071  19.321428  19.360714  16.677595   \n",
       "2  2013-01-04  19.177500  19.236786  18.779642  18.821428  16.213051   \n",
       "3  2013-01-07  18.642857  18.903570  18.400000  18.710714  16.117674   \n",
       "4  2013-01-08  18.900356  18.996071  18.616072  18.761070  16.161053   \n",
       "\n",
       "      Volume  \n",
       "0  560518000  \n",
       "1  352965200  \n",
       "2  594333600  \n",
       "3  484156400  \n",
       "4  458707200  "
      ]
     },
     "execution_count": 27,
     "metadata": {},
     "output_type": "execute_result"
    }
   ],
   "source": [
    "apple_complete.head()"
   ]
  },
  {
   "cell_type": "code",
   "execution_count": 28,
   "id": "d61dd944",
   "metadata": {},
   "outputs": [
    {
     "data": {
      "text/html": [
       "<div>\n",
       "<style scoped>\n",
       "    .dataframe tbody tr th:only-of-type {\n",
       "        vertical-align: middle;\n",
       "    }\n",
       "\n",
       "    .dataframe tbody tr th {\n",
       "        vertical-align: top;\n",
       "    }\n",
       "\n",
       "    .dataframe thead th {\n",
       "        text-align: right;\n",
       "    }\n",
       "</style>\n",
       "<table border=\"1\" class=\"dataframe\">\n",
       "  <thead>\n",
       "    <tr style=\"text-align: right;\">\n",
       "      <th></th>\n",
       "      <th>Date</th>\n",
       "      <th>Open</th>\n",
       "    </tr>\n",
       "  </thead>\n",
       "  <tbody>\n",
       "    <tr>\n",
       "      <th>0</th>\n",
       "      <td>2013-01-02</td>\n",
       "      <td>19.779285</td>\n",
       "    </tr>\n",
       "    <tr>\n",
       "      <th>1</th>\n",
       "      <td>2013-01-03</td>\n",
       "      <td>19.567142</td>\n",
       "    </tr>\n",
       "    <tr>\n",
       "      <th>2</th>\n",
       "      <td>2013-01-04</td>\n",
       "      <td>19.177500</td>\n",
       "    </tr>\n",
       "    <tr>\n",
       "      <th>3</th>\n",
       "      <td>2013-01-07</td>\n",
       "      <td>18.642857</td>\n",
       "    </tr>\n",
       "    <tr>\n",
       "      <th>4</th>\n",
       "      <td>2013-01-08</td>\n",
       "      <td>18.900356</td>\n",
       "    </tr>\n",
       "  </tbody>\n",
       "</table>\n",
       "</div>"
      ],
      "text/plain": [
       "         Date       Open\n",
       "0  2013-01-02  19.779285\n",
       "1  2013-01-03  19.567142\n",
       "2  2013-01-04  19.177500\n",
       "3  2013-01-07  18.642857\n",
       "4  2013-01-08  18.900356"
      ]
     },
     "execution_count": 28,
     "metadata": {},
     "output_type": "execute_result"
    }
   ],
   "source": [
    "df = apple_complete.iloc[:,0:2]\n",
    "df.head()"
   ]
  },
  {
   "cell_type": "code",
   "execution_count": 6,
   "id": "4d37369f",
   "metadata": {},
   "outputs": [
    {
     "data": {
      "text/plain": [
       "Date    False\n",
       "Open    False\n",
       "dtype: bool"
      ]
     },
     "execution_count": 6,
     "metadata": {},
     "output_type": "execute_result"
    }
   ],
   "source": [
    "df.isnull().any()"
   ]
  },
  {
   "cell_type": "code",
   "execution_count": 7,
   "id": "89a03af4",
   "metadata": {},
   "outputs": [
    {
     "data": {
      "text/plain": [
       "Date    0\n",
       "Open    0\n",
       "dtype: int64"
      ]
     },
     "execution_count": 7,
     "metadata": {},
     "output_type": "execute_result"
    }
   ],
   "source": [
    "df.isnull().sum()"
   ]
  },
  {
   "cell_type": "code",
   "execution_count": 37,
   "id": "8a53c67c",
   "metadata": {},
   "outputs": [],
   "source": [
    "apple_processed = apple_complete.iloc[:,1:2].values"
   ]
  },
  {
   "cell_type": "code",
   "execution_count": 38,
   "id": "1d9c5bd6",
   "metadata": {},
   "outputs": [
    {
     "data": {
      "text/plain": [
       "array([[19.779285],\n",
       "       [19.567142],\n",
       "       [19.1775  ],\n",
       "       ...,\n",
       "       [42.525002],\n",
       "       [42.75    ],\n",
       "       [42.630001]])"
      ]
     },
     "execution_count": 38,
     "metadata": {},
     "output_type": "execute_result"
    }
   ],
   "source": [
    "apple_processed"
   ]
  },
  {
   "cell_type": "code",
   "execution_count": 40,
   "id": "e2dcb7e7",
   "metadata": {},
   "outputs": [
    {
     "data": {
      "text/plain": [
       "pandas.core.frame.DataFrame"
      ]
     },
     "execution_count": 40,
     "metadata": {},
     "output_type": "execute_result"
    }
   ],
   "source": [
    "type(apple_complete)"
   ]
  },
  {
   "cell_type": "code",
   "execution_count": 39,
   "id": "c78647bb",
   "metadata": {},
   "outputs": [
    {
     "data": {
      "text/plain": [
       "numpy.ndarray"
      ]
     },
     "execution_count": 39,
     "metadata": {},
     "output_type": "execute_result"
    }
   ],
   "source": [
    "type(apple_processed)"
   ]
  },
  {
   "cell_type": "markdown",
   "id": "81de3bb5",
   "metadata": {},
   "source": [
    "# Scaling"
   ]
  },
  {
   "cell_type": "markdown",
   "id": "9e49bb2f",
   "metadata": {},
   "source": [
    "<img src = \"https://chrisalbon.com/images/machine_learning_flashcards/MinMax_Scaling_print.png\">"
   ]
  },
  {
   "cell_type": "code",
   "execution_count": 41,
   "id": "77d55325",
   "metadata": {},
   "outputs": [
    {
     "data": {
      "text/plain": [
       "array([[0.19795893],\n",
       "       [0.19086893],\n",
       "       [0.17784675],\n",
       "       ...,\n",
       "       [0.95814044],\n",
       "       [0.96566006],\n",
       "       [0.96164959]])"
      ]
     },
     "execution_count": 41,
     "metadata": {},
     "output_type": "execute_result"
    }
   ],
   "source": [
    "scaler = MinMaxScaler(feature_range=(0, 1))\n",
    "apple_scaled = scaler.fit_transform(apple_processed)\n",
    "apple_scaled"
   ]
  },
  {
   "cell_type": "code",
   "execution_count": 43,
   "id": "da4ae1bf",
   "metadata": {},
   "outputs": [
    {
     "data": {
      "text/plain": [
       "(1259, 1)"
      ]
     },
     "execution_count": 43,
     "metadata": {},
     "output_type": "execute_result"
    }
   ],
   "source": [
    "apple_scaled.shape"
   ]
  },
  {
   "cell_type": "markdown",
   "id": "5ff37b71",
   "metadata": {},
   "source": [
    "# Make your Dataset"
   ]
  },
  {
   "cell_type": "code",
   "execution_count": 47,
   "id": "d6553dff",
   "metadata": {},
   "outputs": [],
   "source": [
    "feature = []\n",
    "labels = []\n",
    "for i in range (60,1259):\n",
    "    feature.append(apple_scaled[i-60:i,0])\n",
    "    labels.append(apple_scaled[i,0])"
   ]
  },
  {
   "cell_type": "code",
   "execution_count": 50,
   "id": "948aa454",
   "metadata": {},
   "outputs": [
    {
     "data": {
      "text/plain": [
       "1199"
      ]
     },
     "execution_count": 50,
     "metadata": {},
     "output_type": "execute_result"
    }
   ],
   "source": [
    "len(feature)"
   ]
  },
  {
   "cell_type": "code",
   "execution_count": 51,
   "id": "b6d0aa1d",
   "metadata": {},
   "outputs": [
    {
     "data": {
      "text/plain": [
       "1199"
      ]
     },
     "execution_count": 51,
     "metadata": {},
     "output_type": "execute_result"
    }
   ],
   "source": [
    "len(labels)"
   ]
  },
  {
   "cell_type": "code",
   "execution_count": 55,
   "id": "93391261",
   "metadata": {},
   "outputs": [
    {
     "data": {
      "text/plain": [
       "array([0.19086893, 0.17784675, 0.15997852, 0.16858436, 0.16057529,\n",
       "       0.1677966 , 0.15878493, 0.13691809, 0.13169017, 0.12732156,\n",
       "       0.14602531, 0.13195272, 0.1391621 , 0.14423489, 0.08597521,\n",
       "       0.07605636, 0.05951303, 0.08418478, 0.08239436, 0.08237053,\n",
       "       0.08491289, 0.07870613, 0.06693724, 0.08176177, 0.0898544 ,\n",
       "       0.10268564, 0.10566962, 0.10926236, 0.09458104, 0.09137027,\n",
       "       0.09653854, 0.08728814, 0.08321795, 0.06926474, 0.07314397,\n",
       "       0.07863455, 0.06666269, 0.07216517, 0.06693724, 0.05971593,\n",
       "       0.04754118, 0.03999762, 0.05555025, 0.0436023 , 0.0499284 ,\n",
       "       0.04986871, 0.0568513 , 0.04831704, 0.053545  , 0.05963238,\n",
       "       0.06383385, 0.08537834, 0.08289574, 0.0743018 , 0.0795059 ,\n",
       "       0.09157317, 0.09246834, 0.08174984, 0.07382435, 0.06437099])"
      ]
     },
     "execution_count": 55,
     "metadata": {},
     "output_type": "execute_result"
    }
   ],
   "source": [
    "feature[1]"
   ]
  },
  {
   "cell_type": "code",
   "execution_count": 68,
   "id": "bf87199a",
   "metadata": {},
   "outputs": [
    {
     "data": {
      "text/plain": [
       "0.047302486789651654"
      ]
     },
     "execution_count": 68,
     "metadata": {},
     "output_type": "execute_result"
    }
   ],
   "source": [
    "labels[1]"
   ]
  },
  {
   "cell_type": "code",
   "execution_count": 69,
   "id": "32301207",
   "metadata": {},
   "outputs": [],
   "source": [
    "feature = np.array (feature)\n",
    "labels = np.array (labels)"
   ]
  },
  {
   "cell_type": "code",
   "execution_count": 70,
   "id": "b6afe07d",
   "metadata": {},
   "outputs": [
    {
     "data": {
      "text/plain": [
       "numpy.ndarray"
      ]
     },
     "execution_count": 70,
     "metadata": {},
     "output_type": "execute_result"
    }
   ],
   "source": [
    "type(feature)"
   ]
  },
  {
   "cell_type": "code",
   "execution_count": 71,
   "id": "20379e8d",
   "metadata": {
    "scrolled": true
   },
   "outputs": [
    {
     "data": {
      "text/plain": [
       "numpy.ndarray"
      ]
     },
     "execution_count": 71,
     "metadata": {},
     "output_type": "execute_result"
    }
   ],
   "source": [
    "type(labels)"
   ]
  },
  {
   "cell_type": "markdown",
   "id": "a89f0732",
   "metadata": {},
   "source": [
    "# Training your model"
   ]
  },
  {
   "cell_type": "code",
   "execution_count": 74,
   "id": "3aa1c5a4",
   "metadata": {},
   "outputs": [
    {
     "data": {
      "text/plain": [
       "60"
      ]
     },
     "execution_count": 74,
     "metadata": {},
     "output_type": "execute_result"
    }
   ],
   "source": [
    "feature.shape[1]"
   ]
  },
  {
   "cell_type": "code",
   "execution_count": 75,
   "id": "c3c12184",
   "metadata": {},
   "outputs": [],
   "source": [
    "feature = np.reshape(feature,(feature.shape[0],feature.shape[1],1))"
   ]
  },
  {
   "cell_type": "code",
   "execution_count": 76,
   "id": "626a1d43",
   "metadata": {},
   "outputs": [
    {
     "data": {
      "text/plain": [
       "(1199, 60, 1)"
      ]
     },
     "execution_count": 76,
     "metadata": {},
     "output_type": "execute_result"
    }
   ],
   "source": [
    "feature.shape"
   ]
  },
  {
   "cell_type": "code",
   "execution_count": null,
   "id": "1ca8810f",
   "metadata": {},
   "outputs": [],
   "source": []
  }
 ],
 "metadata": {
  "kernelspec": {
   "display_name": "Python 3 (ipykernel)",
   "language": "python",
   "name": "python3"
  },
  "language_info": {
   "codemirror_mode": {
    "name": "ipython",
    "version": 3
   },
   "file_extension": ".py",
   "mimetype": "text/x-python",
   "name": "python",
   "nbconvert_exporter": "python",
   "pygments_lexer": "ipython3",
   "version": "3.9.13"
  }
 },
 "nbformat": 4,
 "nbformat_minor": 5
}
