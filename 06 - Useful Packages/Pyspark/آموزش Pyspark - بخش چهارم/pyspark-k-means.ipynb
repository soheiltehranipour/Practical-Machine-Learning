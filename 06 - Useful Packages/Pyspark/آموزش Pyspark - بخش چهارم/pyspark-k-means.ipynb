{
 "cells": [
  {
   "cell_type": "code",
   "execution_count": 1,
   "id": "0d16ead1",
   "metadata": {
    "execution": {
     "iopub.execute_input": "2022-07-15T02:55:52.188843Z",
     "iopub.status.busy": "2022-07-15T02:55:52.188329Z",
     "iopub.status.idle": "2022-07-15T02:56:45.610559Z",
     "shell.execute_reply": "2022-07-15T02:56:45.609264Z"
    },
    "id": "YXctX0cEQuIX",
    "outputId": "2965d851-aeb9-4c6b-a032-dd040e44bebb",
    "papermill": {
     "duration": 53.434022,
     "end_time": "2022-07-15T02:56:45.613687",
     "exception": false,
     "start_time": "2022-07-15T02:55:52.179665",
     "status": "completed"
    },
    "tags": []
   },
   "outputs": [
    {
     "name": "stdout",
     "output_type": "stream",
     "text": [
      "Collecting pyspark\r\n",
      "  Downloading pyspark-3.3.0.tar.gz (281.3 MB)\r\n",
      "\u001b[2K     \u001b[90m━━━━━━━━━━━━━━━━━━━━━━━━━━━━━━━━━━━━━━━\u001b[0m \u001b[32m281.3/281.3 MB\u001b[0m \u001b[31m3.2 MB/s\u001b[0m eta \u001b[36m0:00:00\u001b[0m\r\n",
      "\u001b[?25h  Preparing metadata (setup.py) ... \u001b[?25l-\b \b\\\b \bdone\r\n",
      "\u001b[?25hRequirement already satisfied: py4j==0.10.9.5 in /opt/conda/lib/python3.7/site-packages (from pyspark) (0.10.9.5)\r\n",
      "Building wheels for collected packages: pyspark\r\n",
      "  Building wheel for pyspark (setup.py) ... \u001b[?25l-\b \b\\\b \b|\b \b/\b \b-\b \b\\\b \b|\b \b/\b \b-\b \b\\\b \b|\b \b/\b \b-\b \b\\\b \b|\b \b/\b \b-\b \b\\\b \b|\b \b/\b \b-\b \b\\\b \b|\b \b/\b \b-\b \b\\\b \b|\b \b/\b \b-\b \b\\\b \b|\b \b/\b \b-\b \b\\\b \b|\b \b/\b \b-\b \b\\\b \b|\b \b/\b \b-\b \b\\\b \b|\b \b/\b \b-\b \b\\\b \b|\b \b/\b \b-\b \b\\\b \b|\b \b/\b \b-\b \b\\\b \b|\b \b/\b \b-\b \b\\\b \b|\b \b/\b \b-\b \bdone\r\n",
      "\u001b[?25h  Created wheel for pyspark: filename=pyspark-3.3.0-py2.py3-none-any.whl size=281764026 sha256=9735ab5ad324eda65d4ff37ea00249875c5c85bf3eee2b92ed5fc475368aa5e3\r\n",
      "  Stored in directory: /root/.cache/pip/wheels/7a/8e/1b/f73a52650d2e5f337708d9f6a1750d451a7349a867f928b885\r\n",
      "Successfully built pyspark\r\n",
      "Installing collected packages: pyspark\r\n",
      "Successfully installed pyspark-3.3.0\r\n",
      "\u001b[33mWARNING: Running pip as the 'root' user can result in broken permissions and conflicting behaviour with the system package manager. It is recommended to use a virtual environment instead: https://pip.pypa.io/warnings/venv\u001b[0m\u001b[33m\r\n",
      "\u001b[0m"
     ]
    }
   ],
   "source": [
    "!pip install pyspark"
   ]
  },
  {
   "cell_type": "code",
   "execution_count": 2,
   "id": "68e15fe1",
   "metadata": {
    "execution": {
     "iopub.execute_input": "2022-07-15T02:56:45.664062Z",
     "iopub.status.busy": "2022-07-15T02:56:45.663570Z",
     "iopub.status.idle": "2022-07-15T02:56:45.744225Z",
     "shell.execute_reply": "2022-07-15T02:56:45.742860Z"
    },
    "id": "zEcARX8LRwLi",
    "papermill": {
     "duration": 0.109581,
     "end_time": "2022-07-15T02:56:45.747282",
     "exception": false,
     "start_time": "2022-07-15T02:56:45.637701",
     "status": "completed"
    },
    "tags": []
   },
   "outputs": [],
   "source": [
    "from pyspark.sql import SparkSession"
   ]
  },
  {
   "cell_type": "code",
   "execution_count": 3,
   "id": "4fa77ddf",
   "metadata": {
    "execution": {
     "iopub.execute_input": "2022-07-15T02:56:45.798350Z",
     "iopub.status.busy": "2022-07-15T02:56:45.797856Z",
     "iopub.status.idle": "2022-07-15T02:56:51.543018Z",
     "shell.execute_reply": "2022-07-15T02:56:51.541575Z"
    },
    "id": "CRzShXx3SCFo",
    "papermill": {
     "duration": 5.775742,
     "end_time": "2022-07-15T02:56:51.547054",
     "exception": false,
     "start_time": "2022-07-15T02:56:45.771312",
     "status": "completed"
    },
    "tags": []
   },
   "outputs": [
    {
     "name": "stderr",
     "output_type": "stream",
     "text": [
      "Setting default log level to \"WARN\".\n",
      "To adjust logging level use sc.setLogLevel(newLevel). For SparkR, use setLogLevel(newLevel).\n"
     ]
    },
    {
     "name": "stdout",
     "output_type": "stream",
     "text": [
      "22/07/15 02:56:49 WARN NativeCodeLoader: Unable to load native-hadoop library for your platform... using builtin-java classes where applicable\n"
     ]
    }
   ],
   "source": [
    "spark = SparkSession.builder.appName(\"num_of_hackers\").getOrCreate()"
   ]
  },
  {
   "cell_type": "code",
   "execution_count": 4,
   "id": "39b3f91b",
   "metadata": {
    "execution": {
     "iopub.execute_input": "2022-07-15T02:56:51.602536Z",
     "iopub.status.busy": "2022-07-15T02:56:51.602142Z",
     "iopub.status.idle": "2022-07-15T02:56:58.292427Z",
     "shell.execute_reply": "2022-07-15T02:56:58.291126Z"
    },
    "id": "L3bnGk_zSHr6",
    "papermill": {
     "duration": 6.719863,
     "end_time": "2022-07-15T02:56:58.295484",
     "exception": false,
     "start_time": "2022-07-15T02:56:51.575621",
     "status": "completed"
    },
    "tags": []
   },
   "outputs": [],
   "source": [
    "df = spark.read.csv(\"../input/sample-hack-data/hack_data.csv\", header=True, inferSchema=True)"
   ]
  },
  {
   "cell_type": "code",
   "execution_count": 5,
   "id": "1d829a76",
   "metadata": {
    "execution": {
     "iopub.execute_input": "2022-07-15T02:56:58.344956Z",
     "iopub.status.busy": "2022-07-15T02:56:58.344567Z",
     "iopub.status.idle": "2022-07-15T02:56:58.743276Z",
     "shell.execute_reply": "2022-07-15T02:56:58.742127Z"
    },
    "id": "XDcwz51ASPAB",
    "papermill": {
     "duration": 0.427204,
     "end_time": "2022-07-15T02:56:58.746486",
     "exception": false,
     "start_time": "2022-07-15T02:56:58.319282",
     "status": "completed"
    },
    "tags": []
   },
   "outputs": [
    {
     "name": "stdout",
     "output_type": "stream",
     "text": [
      "+-----------------------+-----------------+---------------+-----------------+---------------+--------------------+----------------+\n",
      "|Session_Connection_Time|Bytes Transferred|Kali_Trace_Used|Servers_Corrupted|Pages_Corrupted|            Location|WPM_Typing_Speed|\n",
      "+-----------------------+-----------------+---------------+-----------------+---------------+--------------------+----------------+\n",
      "|                      8|           391.09|              1|             2.96|              7|            Slovenia|           72.37|\n",
      "|                     20|           720.99|              0|             3.04|              9|British Virgin Is...|           69.08|\n",
      "+-----------------------+-----------------+---------------+-----------------+---------------+--------------------+----------------+\n",
      "only showing top 2 rows\n",
      "\n"
     ]
    }
   ],
   "source": [
    "df.show(2)"
   ]
  },
  {
   "cell_type": "code",
   "execution_count": 6,
   "id": "b6fb37a4",
   "metadata": {
    "execution": {
     "iopub.execute_input": "2022-07-15T02:56:58.796808Z",
     "iopub.status.busy": "2022-07-15T02:56:58.796451Z",
     "iopub.status.idle": "2022-07-15T02:57:01.001162Z",
     "shell.execute_reply": "2022-07-15T02:57:01.000034Z"
    },
    "id": "pptJkQQKSS3_",
    "papermill": {
     "duration": 2.232756,
     "end_time": "2022-07-15T02:57:01.003869",
     "exception": false,
     "start_time": "2022-07-15T02:56:58.771113",
     "status": "completed"
    },
    "tags": []
   },
   "outputs": [
    {
     "name": "stderr",
     "output_type": "stream",
     "text": [
      "                                                                                \r"
     ]
    },
    {
     "data": {
      "text/html": [
       "<div>\n",
       "<style scoped>\n",
       "    .dataframe tbody tr th:only-of-type {\n",
       "        vertical-align: middle;\n",
       "    }\n",
       "\n",
       "    .dataframe tbody tr th {\n",
       "        vertical-align: top;\n",
       "    }\n",
       "\n",
       "    .dataframe thead th {\n",
       "        text-align: right;\n",
       "    }\n",
       "</style>\n",
       "<table border=\"1\" class=\"dataframe\">\n",
       "  <thead>\n",
       "    <tr style=\"text-align: right;\">\n",
       "      <th></th>\n",
       "      <th>summary</th>\n",
       "      <th>Session_Connection_Time</th>\n",
       "      <th>Bytes Transferred</th>\n",
       "      <th>Kali_Trace_Used</th>\n",
       "      <th>Servers_Corrupted</th>\n",
       "      <th>Pages_Corrupted</th>\n",
       "      <th>Location</th>\n",
       "      <th>WPM_Typing_Speed</th>\n",
       "    </tr>\n",
       "  </thead>\n",
       "  <tbody>\n",
       "    <tr>\n",
       "      <th>0</th>\n",
       "      <td>count</td>\n",
       "      <td>334</td>\n",
       "      <td>334</td>\n",
       "      <td>334</td>\n",
       "      <td>334</td>\n",
       "      <td>334</td>\n",
       "      <td>334</td>\n",
       "      <td>334</td>\n",
       "    </tr>\n",
       "    <tr>\n",
       "      <th>1</th>\n",
       "      <td>mean</td>\n",
       "      <td>30.008982035928145</td>\n",
       "      <td>607.2452694610777</td>\n",
       "      <td>0.5119760479041916</td>\n",
       "      <td>5.258502994011977</td>\n",
       "      <td>10.838323353293413</td>\n",
       "      <td>None</td>\n",
       "      <td>57.342395209580864</td>\n",
       "    </tr>\n",
       "    <tr>\n",
       "      <th>2</th>\n",
       "      <td>stddev</td>\n",
       "      <td>14.088200614636158</td>\n",
       "      <td>286.33593163576757</td>\n",
       "      <td>0.5006065264451406</td>\n",
       "      <td>2.30190693339697</td>\n",
       "      <td>3.06352633036022</td>\n",
       "      <td>None</td>\n",
       "      <td>13.41106336843464</td>\n",
       "    </tr>\n",
       "    <tr>\n",
       "      <th>3</th>\n",
       "      <td>min</td>\n",
       "      <td>1</td>\n",
       "      <td>10.0</td>\n",
       "      <td>0</td>\n",
       "      <td>1.0</td>\n",
       "      <td>6</td>\n",
       "      <td>Afghanistan</td>\n",
       "      <td>40.0</td>\n",
       "    </tr>\n",
       "    <tr>\n",
       "      <th>4</th>\n",
       "      <td>max</td>\n",
       "      <td>60</td>\n",
       "      <td>1330.5</td>\n",
       "      <td>1</td>\n",
       "      <td>10.0</td>\n",
       "      <td>15</td>\n",
       "      <td>Zimbabwe</td>\n",
       "      <td>75.0</td>\n",
       "    </tr>\n",
       "  </tbody>\n",
       "</table>\n",
       "</div>"
      ],
      "text/plain": [
       "  summary Session_Connection_Time   Bytes Transferred     Kali_Trace_Used  \\\n",
       "0   count                     334                 334                 334   \n",
       "1    mean      30.008982035928145   607.2452694610777  0.5119760479041916   \n",
       "2  stddev      14.088200614636158  286.33593163576757  0.5006065264451406   \n",
       "3     min                       1                10.0                   0   \n",
       "4     max                      60              1330.5                   1   \n",
       "\n",
       "   Servers_Corrupted     Pages_Corrupted     Location    WPM_Typing_Speed  \n",
       "0                334                 334          334                 334  \n",
       "1  5.258502994011977  10.838323353293413         None  57.342395209580864  \n",
       "2   2.30190693339697    3.06352633036022         None   13.41106336843464  \n",
       "3                1.0                   6  Afghanistan                40.0  \n",
       "4               10.0                  15     Zimbabwe                75.0  "
      ]
     },
     "execution_count": 6,
     "metadata": {},
     "output_type": "execute_result"
    }
   ],
   "source": [
    "round(df.describe().toPandas(), 2)"
   ]
  },
  {
   "cell_type": "code",
   "execution_count": 7,
   "id": "b2614650",
   "metadata": {
    "execution": {
     "iopub.execute_input": "2022-07-15T02:57:01.056520Z",
     "iopub.status.busy": "2022-07-15T02:57:01.055526Z",
     "iopub.status.idle": "2022-07-15T02:57:01.228373Z",
     "shell.execute_reply": "2022-07-15T02:57:01.227410Z"
    },
    "id": "foP_dVMeSZfB",
    "papermill": {
     "duration": 0.202327,
     "end_time": "2022-07-15T02:57:01.230907",
     "exception": false,
     "start_time": "2022-07-15T02:57:01.028580",
     "status": "completed"
    },
    "tags": []
   },
   "outputs": [],
   "source": [
    "from pyspark.ml.feature import VectorAssembler"
   ]
  },
  {
   "cell_type": "code",
   "execution_count": 8,
   "id": "91715282",
   "metadata": {
    "execution": {
     "iopub.execute_input": "2022-07-15T02:57:01.282569Z",
     "iopub.status.busy": "2022-07-15T02:57:01.281837Z",
     "iopub.status.idle": "2022-07-15T02:57:01.289285Z",
     "shell.execute_reply": "2022-07-15T02:57:01.288444Z"
    },
    "id": "TB_-KaRLStxf",
    "papermill": {
     "duration": 0.035397,
     "end_time": "2022-07-15T02:57:01.291197",
     "exception": false,
     "start_time": "2022-07-15T02:57:01.255800",
     "status": "completed"
    },
    "tags": []
   },
   "outputs": [
    {
     "data": {
      "text/plain": [
       "['Session_Connection_Time',\n",
       " 'Bytes Transferred',\n",
       " 'Kali_Trace_Used',\n",
       " 'Servers_Corrupted',\n",
       " 'Pages_Corrupted',\n",
       " 'Location',\n",
       " 'WPM_Typing_Speed']"
      ]
     },
     "execution_count": 8,
     "metadata": {},
     "output_type": "execute_result"
    }
   ],
   "source": [
    "df.columns"
   ]
  },
  {
   "cell_type": "code",
   "execution_count": 9,
   "id": "34556adc",
   "metadata": {
    "execution": {
     "iopub.execute_input": "2022-07-15T02:57:01.343131Z",
     "iopub.status.busy": "2022-07-15T02:57:01.342407Z",
     "iopub.status.idle": "2022-07-15T02:57:01.346778Z",
     "shell.execute_reply": "2022-07-15T02:57:01.345948Z"
    },
    "id": "bhKT3L2jSwCS",
    "papermill": {
     "duration": 0.033048,
     "end_time": "2022-07-15T02:57:01.349014",
     "exception": false,
     "start_time": "2022-07-15T02:57:01.315966",
     "status": "completed"
    },
    "tags": []
   },
   "outputs": [],
   "source": [
    "feat_cols = ['Session_Connection_Time',\n",
    " 'Bytes Transferred',\n",
    " 'Kali_Trace_Used',\n",
    " 'Servers_Corrupted',\n",
    " 'Pages_Corrupted',\n",
    " 'WPM_Typing_Speed']"
   ]
  },
  {
   "cell_type": "code",
   "execution_count": 10,
   "id": "fc79ab89",
   "metadata": {
    "execution": {
     "iopub.execute_input": "2022-07-15T02:57:01.399027Z",
     "iopub.status.busy": "2022-07-15T02:57:01.398557Z",
     "iopub.status.idle": "2022-07-15T02:57:01.422934Z",
     "shell.execute_reply": "2022-07-15T02:57:01.422030Z"
    },
    "id": "C9CdFaaZS0pm",
    "papermill": {
     "duration": 0.052434,
     "end_time": "2022-07-15T02:57:01.425490",
     "exception": false,
     "start_time": "2022-07-15T02:57:01.373056",
     "status": "completed"
    },
    "tags": []
   },
   "outputs": [],
   "source": [
    "assembler = VectorAssembler(inputCols=feat_cols, outputCol='features')"
   ]
  },
  {
   "cell_type": "code",
   "execution_count": 11,
   "id": "8b6323a2",
   "metadata": {
    "execution": {
     "iopub.execute_input": "2022-07-15T02:57:01.475592Z",
     "iopub.status.busy": "2022-07-15T02:57:01.475222Z",
     "iopub.status.idle": "2022-07-15T02:57:01.658302Z",
     "shell.execute_reply": "2022-07-15T02:57:01.657065Z"
    },
    "id": "4nmV9-YUS5oN",
    "papermill": {
     "duration": 0.212194,
     "end_time": "2022-07-15T02:57:01.661817",
     "exception": false,
     "start_time": "2022-07-15T02:57:01.449623",
     "status": "completed"
    },
    "tags": []
   },
   "outputs": [],
   "source": [
    "final_df = assembler.transform(df)"
   ]
  },
  {
   "cell_type": "code",
   "execution_count": 12,
   "id": "1056959f",
   "metadata": {
    "execution": {
     "iopub.execute_input": "2022-07-15T02:57:01.719015Z",
     "iopub.status.busy": "2022-07-15T02:57:01.717919Z",
     "iopub.status.idle": "2022-07-15T02:57:01.723227Z",
     "shell.execute_reply": "2022-07-15T02:57:01.722240Z"
    },
    "id": "OOt2lG0_S9H9",
    "papermill": {
     "duration": 0.033447,
     "end_time": "2022-07-15T02:57:01.725494",
     "exception": false,
     "start_time": "2022-07-15T02:57:01.692047",
     "status": "completed"
    },
    "tags": []
   },
   "outputs": [],
   "source": [
    "from pyspark.ml.feature import StandardScaler"
   ]
  },
  {
   "cell_type": "code",
   "execution_count": 13,
   "id": "4a340776",
   "metadata": {
    "execution": {
     "iopub.execute_input": "2022-07-15T02:57:01.778032Z",
     "iopub.status.busy": "2022-07-15T02:57:01.777590Z",
     "iopub.status.idle": "2022-07-15T02:57:01.792255Z",
     "shell.execute_reply": "2022-07-15T02:57:01.791043Z"
    },
    "id": "_VRieMVeTEF_",
    "papermill": {
     "duration": 0.044238,
     "end_time": "2022-07-15T02:57:01.794690",
     "exception": false,
     "start_time": "2022-07-15T02:57:01.750452",
     "status": "completed"
    },
    "tags": []
   },
   "outputs": [],
   "source": [
    "scaler = StandardScaler(inputCol='features', \n",
    "                        outputCol='scaled_feat',\n",
    "                        withStd = True,\n",
    "                        withMean = False)"
   ]
  },
  {
   "cell_type": "code",
   "execution_count": 14,
   "id": "cf01c24e",
   "metadata": {
    "execution": {
     "iopub.execute_input": "2022-07-15T02:57:01.848711Z",
     "iopub.status.busy": "2022-07-15T02:57:01.848027Z",
     "iopub.status.idle": "2022-07-15T02:57:02.846761Z",
     "shell.execute_reply": "2022-07-15T02:57:02.845464Z"
    },
    "id": "JUb1fkh9TPwQ",
    "papermill": {
     "duration": 1.03006,
     "end_time": "2022-07-15T02:57:02.850582",
     "exception": false,
     "start_time": "2022-07-15T02:57:01.820522",
     "status": "completed"
    },
    "tags": []
   },
   "outputs": [],
   "source": [
    "scaled_model = scaler.fit(final_df)"
   ]
  },
  {
   "cell_type": "code",
   "execution_count": 15,
   "id": "16c366fc",
   "metadata": {
    "execution": {
     "iopub.execute_input": "2022-07-15T02:57:02.930228Z",
     "iopub.status.busy": "2022-07-15T02:57:02.929662Z",
     "iopub.status.idle": "2022-07-15T02:57:03.072204Z",
     "shell.execute_reply": "2022-07-15T02:57:03.070826Z"
    },
    "id": "2wbR8VwQTWNh",
    "papermill": {
     "duration": 0.187725,
     "end_time": "2022-07-15T02:57:03.076890",
     "exception": false,
     "start_time": "2022-07-15T02:57:02.889165",
     "status": "completed"
    },
    "tags": []
   },
   "outputs": [],
   "source": [
    "cluster_df = scaled_model.transform(final_df)"
   ]
  },
  {
   "cell_type": "code",
   "execution_count": 16,
   "id": "b165c1b8",
   "metadata": {
    "execution": {
     "iopub.execute_input": "2022-07-15T02:57:03.142166Z",
     "iopub.status.busy": "2022-07-15T02:57:03.141757Z",
     "iopub.status.idle": "2022-07-15T02:57:03.146300Z",
     "shell.execute_reply": "2022-07-15T02:57:03.145279Z"
    },
    "id": "M9TwASEfTcQf",
    "papermill": {
     "duration": 0.033734,
     "end_time": "2022-07-15T02:57:03.149007",
     "exception": false,
     "start_time": "2022-07-15T02:57:03.115273",
     "status": "completed"
    },
    "tags": []
   },
   "outputs": [],
   "source": [
    "from pyspark.ml.clustering import KMeans\n",
    "from pyspark.ml.evaluation import ClusteringEvaluator"
   ]
  },
  {
   "cell_type": "code",
   "execution_count": 17,
   "id": "6cfb617e",
   "metadata": {
    "execution": {
     "iopub.execute_input": "2022-07-15T02:57:03.202046Z",
     "iopub.status.busy": "2022-07-15T02:57:03.201273Z",
     "iopub.status.idle": "2022-07-15T02:57:03.217316Z",
     "shell.execute_reply": "2022-07-15T02:57:03.216218Z"
    },
    "id": "kURhp5x0Tiwn",
    "papermill": {
     "duration": 0.046857,
     "end_time": "2022-07-15T02:57:03.220628",
     "exception": false,
     "start_time": "2022-07-15T02:57:03.173771",
     "status": "completed"
    },
    "tags": []
   },
   "outputs": [],
   "source": [
    "eval = ClusteringEvaluator(predictionCol=\"prediction\",\n",
    "                           featuresCol=\"scaled_feat\",\n",
    "                           metricName=\"silhouette\",\n",
    "                           distanceMeasure=\"squaredEuclidean\")"
   ]
  },
  {
   "cell_type": "code",
   "execution_count": 18,
   "id": "df1104e5",
   "metadata": {
    "execution": {
     "iopub.execute_input": "2022-07-15T02:57:03.277542Z",
     "iopub.status.busy": "2022-07-15T02:57:03.275802Z",
     "iopub.status.idle": "2022-07-15T02:57:23.583712Z",
     "shell.execute_reply": "2022-07-15T02:57:23.582909Z"
    },
    "id": "keIi0Fe-T-lr",
    "papermill": {
     "duration": 20.338245,
     "end_time": "2022-07-15T02:57:23.586831",
     "exception": false,
     "start_time": "2022-07-15T02:57:03.248586",
     "status": "completed"
    },
    "tags": []
   },
   "outputs": [
    {
     "name": "stdout",
     "output_type": "stream",
     "text": [
      "\n",
      "Silhoutte Scores for K Mean Clustering\n",
      "======================================\n",
      "Model\tScore\t\n",
      "=====\t=====\t\n",
      "\n",
      "K2\t0.82\t\n",
      "K3\t0.76\t\n",
      "K4\t0.72\t\n",
      "K5\t0.64\t\n",
      "K6\t0.53\t\n",
      "K7\t0.47\t\n",
      "K8\t0.46\t\n",
      "K9\t0.48\t\n",
      "K10\t0.47\t\n"
     ]
    }
   ],
   "source": [
    "silhouette_score = []\n",
    "print(\"\"\"\n",
    "Silhoutte Scores for K Mean Clustering\n",
    "======================================\n",
    "Model\\tScore\\t\n",
    "=====\\t=====\\t\n",
    "\"\"\")\n",
    "for k in range(2,11):\n",
    "  kmeans_algo = KMeans(featuresCol='scaled_feat',k=k)\n",
    "  kmeans_fit = kmeans_algo.fit(cluster_df)\n",
    "  output = kmeans_fit.transform(cluster_df)\n",
    "  score = eval.evaluate(output)\n",
    "  silhouette_score.append(score)\n",
    "  print(f\"K{k}\\t{round(score,2)}\\t\")\n"
   ]
  },
  {
   "cell_type": "code",
   "execution_count": 19,
   "id": "a2b960fc",
   "metadata": {
    "execution": {
     "iopub.execute_input": "2022-07-15T02:57:23.645261Z",
     "iopub.status.busy": "2022-07-15T02:57:23.644892Z",
     "iopub.status.idle": "2022-07-15T02:57:23.905411Z",
     "shell.execute_reply": "2022-07-15T02:57:23.904475Z"
    },
    "id": "7bAzw9HVU5wt",
    "papermill": {
     "duration": 0.289132,
     "end_time": "2022-07-15T02:57:23.907625",
     "exception": false,
     "start_time": "2022-07-15T02:57:23.618493",
     "status": "completed"
    },
    "tags": []
   },
   "outputs": [
    {
     "data": {
      "image/png": "[encoded data removed]",
      "text/plain": [
       "<Figure size 720x720 with 1 Axes>"
      ]
     },
     "metadata": {
      "needs_background": "light"
     },
     "output_type": "display_data"
    }
   ],
   "source": [
    "import matplotlib.pyplot as plt\n",
    "fig, ax = plt.subplots(1, 1, figsize=(10,10))\n",
    "ax.plot(range(2,11), silhouette_score)\n",
    "ax.set_xlabel(\"K\")\n",
    "ax.set_ylabel(\"Score\");"
   ]
  }
 ],
 "metadata": {
  "kernelspec": {
   "display_name": "Python 3",
   "language": "python",
   "name": "python3"
  },
  "language_info": {
   "codemirror_mode": {
    "name": "ipython",
    "version": 3
   },
   "file_extension": ".py",
   "mimetype": "text/x-python",
   "name": "python",
   "nbconvert_exporter": "python",
   "pygments_lexer": "ipython3",
   "version": "3.7.12"
  },
  "papermill": {
   "default_parameters": {},
   "duration": 105.656669,
   "end_time": "2022-07-15T02:57:26.556027",
   "environment_variables": {},
   "exception": null,
   "input_path": "__notebook__.ipynb",
   "output_path": "__notebook__.ipynb",
   "parameters": {},
   "start_time": "2022-07-15T02:55:40.899358",
   "version": "2.3.4"
  }
 },
 "nbformat": 4,
 "nbformat_minor": 5
}
