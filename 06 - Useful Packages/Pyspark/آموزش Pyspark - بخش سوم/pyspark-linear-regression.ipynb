{
 "cells": [
  {
   "cell_type": "markdown",
   "id": "89499889",
   "metadata": {
    "id": "R5lpO29aE_SN",
    "papermill": {
     "duration": 0.00852,
     "end_time": "2022-10-28T08:50:31.734267",
     "exception": false,
     "start_time": "2022-10-28T08:50:31.725747",
     "status": "completed"
    },
    "tags": []
   },
   "source": [
    "# Linear Regression with PySpark"
   ]
  },
  {
   "cell_type": "code",
   "execution_count": 1,
   "id": "cd460f50",
   "metadata": {
    "execution": {
     "iopub.execute_input": "2022-10-28T08:50:31.752037Z",
     "iopub.status.busy": "2022-10-28T08:50:31.751400Z",
     "iopub.status.idle": "2022-10-28T08:51:19.991988Z",
     "shell.execute_reply": "2022-10-28T08:51:19.990519Z"
    },
    "id": "5a2U1PUsMjAU",
    "outputId": "1b0bfd32-d79c-42ba-c002-051664b1b037",
    "papermill": {
     "duration": 48.252887,
     "end_time": "2022-10-28T08:51:19.994831",
     "exception": false,
     "start_time": "2022-10-28T08:50:31.741944",
     "status": "completed"
    },
    "tags": []
   },
   "outputs": [
    {
     "name": "stdout",
     "output_type": "stream",
     "text": [
      "Collecting pyspark\r\n",
      "  Downloading pyspark-3.3.1.tar.gz (281.4 MB)\r\n",
      "\u001b[2K     \u001b[90m━━━━━━━━━━━━━━━━━━━━━━━━━━━━━━━━━━━━━━━\u001b[0m \u001b[32m281.4/281.4 MB\u001b[0m \u001b[31m4.0 MB/s\u001b[0m eta \u001b[36m0:00:00\u001b[0m\r\n",
      "\u001b[?25h  Preparing metadata (setup.py) ... \u001b[?25l-\b \b\\\b \bdone\r\n",
      "\u001b[?25hRequirement already satisfied: py4j==0.10.9.5 in /opt/conda/lib/python3.7/site-packages (from pyspark) (0.10.9.5)\r\n",
      "Building wheels for collected packages: pyspark\r\n",
      "  Building wheel for pyspark (setup.py) ... \u001b[?25l-\b \b\\\b \b|\b \b/\b \b-\b \b\\\b \b|\b \b/\b \b-\b \b\\\b \b|\b \b/\b \b-\b \b\\\b \b|\b \b/\b \b-\b \b\\\b \b|\b \b/\b \b-\b \b\\\b \b|\b \b/\b \b-\b \b\\\b \b|\b \b/\b \b-\b \b\\\b \b|\b \b/\b \b-\b \b\\\b \b|\b \b/\b \b-\b \b\\\b \b|\b \b/\b \b-\b \b\\\b \b|\b \b/\b \b-\b \b\\\b \b|\b \b/\b \b-\b \b\\\b \b|\b \b/\b \b-\b \b\\\b \b|\b \b/\b \b-\b \bdone\r\n",
      "\u001b[?25h  Created wheel for pyspark: filename=pyspark-3.3.1-py2.py3-none-any.whl size=281845513 sha256=31cb16543f47d14367f6fb36d071f80f169ced9c55b715e1ffc01f47c843243c\r\n",
      "  Stored in directory: /root/.cache/pip/wheels/42/59/f5/79a5bf931714dcd201b26025347785f087370a10a3329a899c\r\n",
      "Successfully built pyspark\r\n",
      "Installing collected packages: pyspark\r\n",
      "Successfully installed pyspark-3.3.1\r\n",
      "\u001b[33mWARNING: Running pip as the 'root' user can result in broken permissions and conflicting behaviour with the system package manager. It is recommended to use a virtual environment instead: https://pip.pypa.io/warnings/venv\u001b[0m\u001b[33m\r\n",
      "\u001b[0m"
     ]
    }
   ],
   "source": [
    "!pip install pyspark"
   ]
  },
  {
   "cell_type": "code",
   "execution_count": 2,
   "id": "b2501f75",
   "metadata": {
    "execution": {
     "iopub.execute_input": "2022-10-28T08:51:20.037000Z",
     "iopub.status.busy": "2022-10-28T08:51:20.036574Z",
     "iopub.status.idle": "2022-10-28T08:51:20.104736Z",
     "shell.execute_reply": "2022-10-28T08:51:20.103856Z"
    },
    "id": "6pRphUlJGxIK",
    "papermill": {
     "duration": 0.092358,
     "end_time": "2022-10-28T08:51:20.107336",
     "exception": false,
     "start_time": "2022-10-28T08:51:20.014978",
     "status": "completed"
    },
    "tags": []
   },
   "outputs": [],
   "source": [
    "from pyspark.sql import SparkSession"
   ]
  },
  {
   "cell_type": "code",
   "execution_count": 3,
   "id": "52132b3f",
   "metadata": {
    "execution": {
     "iopub.execute_input": "2022-10-28T08:51:20.150260Z",
     "iopub.status.busy": "2022-10-28T08:51:20.149413Z",
     "iopub.status.idle": "2022-10-28T08:51:25.506300Z",
     "shell.execute_reply": "2022-10-28T08:51:25.504887Z"
    },
    "id": "gdQ7cjFnHCtG",
    "papermill": {
     "duration": 5.38266,
     "end_time": "2022-10-28T08:51:25.510167",
     "exception": false,
     "start_time": "2022-10-28T08:51:20.127507",
     "status": "completed"
    },
    "tags": []
   },
   "outputs": [
    {
     "name": "stderr",
     "output_type": "stream",
     "text": [
      "Setting default log level to \"WARN\".\n",
      "To adjust logging level use sc.setLogLevel(newLevel). For SparkR, use setLogLevel(newLevel).\n"
     ]
    },
    {
     "name": "stdout",
     "output_type": "stream",
     "text": [
      "22/10/28 08:51:23 WARN NativeCodeLoader: Unable to load native-hadoop library for your platform... using builtin-java classes where applicable\n"
     ]
    }
   ],
   "source": [
    "spark = SparkSession.builder.appName(\"crew_prediction\").getOrCreate()"
   ]
  },
  {
   "cell_type": "code",
   "execution_count": 4,
   "id": "9c80c565",
   "metadata": {
    "execution": {
     "iopub.execute_input": "2022-10-28T08:51:25.558002Z",
     "iopub.status.busy": "2022-10-28T08:51:25.557584Z",
     "iopub.status.idle": "2022-10-28T08:51:31.675806Z",
     "shell.execute_reply": "2022-10-28T08:51:31.674894Z"
    },
    "id": "sel4lnahHI6q",
    "papermill": {
     "duration": 6.14318,
     "end_time": "2022-10-28T08:51:31.678841",
     "exception": false,
     "start_time": "2022-10-28T08:51:25.535661",
     "status": "completed"
    },
    "tags": []
   },
   "outputs": [],
   "source": [
    "df = spark.read.csv(\"../input/cruise-used-for-pyspark/cruise_dataset.csv\", inferSchema=True, header=True)"
   ]
  },
  {
   "cell_type": "code",
   "execution_count": 5,
   "id": "a2bc8bbc",
   "metadata": {
    "execution": {
     "iopub.execute_input": "2022-10-28T08:51:31.721591Z",
     "iopub.status.busy": "2022-10-28T08:51:31.721195Z",
     "iopub.status.idle": "2022-10-28T08:51:31.735138Z",
     "shell.execute_reply": "2022-10-28T08:51:31.733114Z"
    },
    "id": "tSzKhf8eHSnp",
    "outputId": "a59a36e0-3f2f-4103-bd94-b302a73cbce0",
    "papermill": {
     "duration": 0.039272,
     "end_time": "2022-10-28T08:51:31.738304",
     "exception": false,
     "start_time": "2022-10-28T08:51:31.699032",
     "status": "completed"
    },
    "tags": []
   },
   "outputs": [
    {
     "name": "stdout",
     "output_type": "stream",
     "text": [
      "root\n",
      " |-- Ship_name: string (nullable = true)\n",
      " |-- Cruise_line: string (nullable = true)\n",
      " |-- Age: integer (nullable = true)\n",
      " |-- Tonnage: double (nullable = true)\n",
      " |-- passengers: double (nullable = true)\n",
      " |-- length: double (nullable = true)\n",
      " |-- cabins: double (nullable = true)\n",
      " |-- passenger_density: double (nullable = true)\n",
      " |-- crew: double (nullable = true)\n",
      "\n"
     ]
    }
   ],
   "source": [
    "df.printSchema()"
   ]
  },
  {
   "cell_type": "code",
   "execution_count": 6,
   "id": "5756f31c",
   "metadata": {
    "execution": {
     "iopub.execute_input": "2022-10-28T08:51:31.780701Z",
     "iopub.status.busy": "2022-10-28T08:51:31.780025Z",
     "iopub.status.idle": "2022-10-28T08:51:32.200788Z",
     "shell.execute_reply": "2022-10-28T08:51:32.198405Z"
    },
    "id": "8xPkooc5HYKl",
    "outputId": "bc90ce0e-4a49-47ba-8b2a-7fb7c2b5c8d2",
    "papermill": {
     "duration": 0.446371,
     "end_time": "2022-10-28T08:51:32.205119",
     "exception": false,
     "start_time": "2022-10-28T08:51:31.758748",
     "status": "completed"
    },
    "tags": []
   },
   "outputs": [
    {
     "name": "stdout",
     "output_type": "stream",
     "text": [
      "+-----------+-----------+---+------------------+----------+------+------+-----------------+----+\n",
      "|  Ship_name|Cruise_line|Age|           Tonnage|passengers|length|cabins|passenger_density|crew|\n",
      "+-----------+-----------+---+------------------+----------+------+------+-----------------+----+\n",
      "|    Journey|    Azamara|  6|30.276999999999997|      6.94|  5.94|  3.55|            42.64|3.55|\n",
      "|      Quest|    Azamara|  6|30.276999999999997|      6.94|  5.94|  3.55|            42.64|3.55|\n",
      "|Celebration|   Carnival| 26|            47.262|     14.86|  7.22|  7.43|             31.8| 6.7|\n",
      "|   Conquest|   Carnival| 11|             110.0|     29.74|  9.53| 14.88|            36.99|19.1|\n",
      "|    Destiny|   Carnival| 17|           101.353|     26.42|  8.92| 13.21|            38.36|10.0|\n",
      "|    Ecstasy|   Carnival| 22|            70.367|     20.52|  8.55|  10.2|            34.29| 9.2|\n",
      "|    Elation|   Carnival| 15|            70.367|     20.52|  8.55|  10.2|            34.29| 9.2|\n",
      "|    Fantasy|   Carnival| 23|            70.367|     20.56|  8.55| 10.22|            34.23| 9.2|\n",
      "|Fascination|   Carnival| 19|            70.367|     20.52|  8.55|  10.2|            34.29| 9.2|\n",
      "|    Freedom|   Carnival|  6|110.23899999999999|      37.0|  9.51| 14.87|            29.79|11.5|\n",
      "|      Glory|   Carnival| 10|             110.0|     29.74|  9.51| 14.87|            36.99|11.6|\n",
      "|    Holiday|   Carnival| 28|            46.052|     14.52|  7.27|  7.26|            31.72| 6.6|\n",
      "|Imagination|   Carnival| 18|            70.367|     20.52|  8.55|  10.2|            34.29| 9.2|\n",
      "|Inspiration|   Carnival| 17|            70.367|     20.52|  8.55|  10.2|            34.29| 9.2|\n",
      "|     Legend|   Carnival| 11|              86.0|     21.24|  9.63| 10.62|            40.49| 9.3|\n",
      "|   Liberty*|   Carnival|  8|             110.0|     29.74|  9.51| 14.87|            36.99|11.6|\n",
      "|    Miracle|   Carnival|  9|              88.5|     21.24|  9.63| 10.62|            41.67|10.3|\n",
      "|   Paradise|   Carnival| 15|            70.367|     20.52|  8.55|  10.2|            34.29| 9.2|\n",
      "|      Pride|   Carnival| 12|              88.5|     21.24|  9.63| 11.62|            41.67| 9.3|\n",
      "|  Sensation|   Carnival| 20|            70.367|     20.52|  8.55|  10.2|            34.29| 9.2|\n",
      "+-----------+-----------+---+------------------+----------+------+------+-----------------+----+\n",
      "only showing top 20 rows\n",
      "\n"
     ]
    }
   ],
   "source": [
    "df.show()"
   ]
  },
  {
   "cell_type": "code",
   "execution_count": 7,
   "id": "11db3cdd",
   "metadata": {
    "execution": {
     "iopub.execute_input": "2022-10-28T08:51:32.257085Z",
     "iopub.status.busy": "2022-10-28T08:51:32.256735Z",
     "iopub.status.idle": "2022-10-28T08:51:34.316590Z",
     "shell.execute_reply": "2022-10-28T08:51:34.314288Z"
    },
    "id": "K8K25G9VHgZw",
    "outputId": "e7a34127-a649-4cde-90cf-7736126dc23e",
    "papermill": {
     "duration": 2.08695,
     "end_time": "2022-10-28T08:51:34.321884",
     "exception": false,
     "start_time": "2022-10-28T08:51:32.234934",
     "status": "completed"
    },
    "tags": []
   },
   "outputs": [
    {
     "name": "stderr",
     "output_type": "stream",
     "text": [
      "[Stage 3:>                                                          (0 + 1) / 1]\r"
     ]
    },
    {
     "name": "stdout",
     "output_type": "stream",
     "text": [
      "+-------+---------+-----------+------------------+------------------+-----------------+-----------------+------------------+-----------------+-----------------+\n",
      "|summary|Ship_name|Cruise_line|               Age|           Tonnage|       passengers|           length|            cabins|passenger_density|             crew|\n",
      "+-------+---------+-----------+------------------+------------------+-----------------+-----------------+------------------+-----------------+-----------------+\n",
      "|  count|      158|        158|               158|               158|              158|              158|               158|              158|              158|\n",
      "|   mean| Infinity|       null|15.689873417721518| 71.28467088607599|18.45740506329114|8.130632911392404| 8.830000000000005|39.90094936708861|7.794177215189873|\n",
      "| stddev|     null|       null| 7.615691058751413|37.229540025907866|9.677094775143416|1.793473548054825|4.4714172221480615| 8.63921711391542|3.503486564627034|\n",
      "|    min|Adventure|    Azamara|                 4|             2.329|             0.66|             2.79|              0.33|             17.7|             0.59|\n",
      "|    max|Zuiderdam|   Windstar|                48|             220.0|             54.0|            11.82|              27.0|            71.43|             21.0|\n",
      "+-------+---------+-----------+------------------+------------------+-----------------+-----------------+------------------+-----------------+-----------------+\n",
      "\n"
     ]
    },
    {
     "name": "stderr",
     "output_type": "stream",
     "text": [
      "                                                                                \r"
     ]
    }
   ],
   "source": [
    "df.describe().show()"
   ]
  },
  {
   "cell_type": "code",
   "execution_count": 8,
   "id": "7a322ca8",
   "metadata": {
    "execution": {
     "iopub.execute_input": "2022-10-28T08:51:34.384929Z",
     "iopub.status.busy": "2022-10-28T08:51:34.384386Z",
     "iopub.status.idle": "2022-10-28T08:51:35.048531Z",
     "shell.execute_reply": "2022-10-28T08:51:35.047316Z"
    },
    "id": "wpqtl3mzHmr3",
    "outputId": "ac0a0cd1-e29e-41d9-a611-f47499120b24",
    "papermill": {
     "duration": 0.70037,
     "end_time": "2022-10-28T08:51:35.054530",
     "exception": false,
     "start_time": "2022-10-28T08:51:34.354160",
     "status": "completed"
    },
    "tags": []
   },
   "outputs": [
    {
     "name": "stdout",
     "output_type": "stream",
     "text": [
      "+-----------------+-----+\n",
      "|      Cruise_line|count|\n",
      "+-----------------+-----+\n",
      "|            Costa|   11|\n",
      "|              P&O|    6|\n",
      "|           Cunard|    3|\n",
      "|Regent_Seven_Seas|    5|\n",
      "|              MSC|    8|\n",
      "|         Carnival|   22|\n",
      "|          Crystal|    2|\n",
      "|           Orient|    1|\n",
      "|         Princess|   17|\n",
      "|        Silversea|    4|\n",
      "|         Seabourn|    3|\n",
      "| Holland_American|   14|\n",
      "|         Windstar|    3|\n",
      "|           Disney|    2|\n",
      "|        Norwegian|   13|\n",
      "|          Oceania|    3|\n",
      "|          Azamara|    2|\n",
      "|        Celebrity|   10|\n",
      "|             Star|    6|\n",
      "|  Royal_Caribbean|   23|\n",
      "+-----------------+-----+\n",
      "\n"
     ]
    }
   ],
   "source": [
    "df.groupBy(\"Cruise_line\").count().show()"
   ]
  },
  {
   "cell_type": "code",
   "execution_count": 9,
   "id": "b0393006",
   "metadata": {
    "execution": {
     "iopub.execute_input": "2022-10-28T08:51:35.117619Z",
     "iopub.status.busy": "2022-10-28T08:51:35.117061Z",
     "iopub.status.idle": "2022-10-28T08:51:35.281415Z",
     "shell.execute_reply": "2022-10-28T08:51:35.280184Z"
    },
    "id": "0HL78sKDHx4S",
    "papermill": {
     "duration": 0.198525,
     "end_time": "2022-10-28T08:51:35.284101",
     "exception": false,
     "start_time": "2022-10-28T08:51:35.085576",
     "status": "completed"
    },
    "tags": []
   },
   "outputs": [],
   "source": [
    "from pyspark.ml.feature import StringIndexer"
   ]
  },
  {
   "cell_type": "code",
   "execution_count": 10,
   "id": "f0595ce0",
   "metadata": {
    "execution": {
     "iopub.execute_input": "2022-10-28T08:51:35.326831Z",
     "iopub.status.busy": "2022-10-28T08:51:35.326422Z",
     "iopub.status.idle": "2022-10-28T08:51:36.092195Z",
     "shell.execute_reply": "2022-10-28T08:51:36.091024Z"
    },
    "id": "jOyBUFpEICJr",
    "papermill": {
     "duration": 0.791271,
     "end_time": "2022-10-28T08:51:36.095701",
     "exception": false,
     "start_time": "2022-10-28T08:51:35.304430",
     "status": "completed"
    },
    "tags": []
   },
   "outputs": [],
   "source": [
    "indexer = StringIndexer(inputCol=\"Cruise_line\", outputCol=\"cruise_cat\")\n",
    "indexed = indexer.fit(df).transform(df)"
   ]
  },
  {
   "cell_type": "code",
   "execution_count": 11,
   "id": "876e7987",
   "metadata": {
    "execution": {
     "iopub.execute_input": "2022-10-28T08:51:36.158113Z",
     "iopub.status.busy": "2022-10-28T08:51:36.157538Z",
     "iopub.status.idle": "2022-10-28T08:51:36.414859Z",
     "shell.execute_reply": "2022-10-28T08:51:36.413768Z"
    },
    "id": "BkNwr5GBIFuz",
    "outputId": "fac2a523-0ff6-4ad8-df50-ce8b0041da96",
    "papermill": {
     "duration": 0.293972,
     "end_time": "2022-10-28T08:51:36.419785",
     "exception": false,
     "start_time": "2022-10-28T08:51:36.125813",
     "status": "completed"
    },
    "tags": []
   },
   "outputs": [
    {
     "name": "stdout",
     "output_type": "stream",
     "text": [
      "+-----------+-----------+---+------------------+----------+------+------+-----------------+----+----------+\n",
      "|  Ship_name|Cruise_line|Age|           Tonnage|passengers|length|cabins|passenger_density|crew|cruise_cat|\n",
      "+-----------+-----------+---+------------------+----------+------+------+-----------------+----+----------+\n",
      "|    Journey|    Azamara|  6|30.276999999999997|      6.94|  5.94|  3.55|            42.64|3.55|      16.0|\n",
      "|      Quest|    Azamara|  6|30.276999999999997|      6.94|  5.94|  3.55|            42.64|3.55|      16.0|\n",
      "|Celebration|   Carnival| 26|            47.262|     14.86|  7.22|  7.43|             31.8| 6.7|       1.0|\n",
      "|   Conquest|   Carnival| 11|             110.0|     29.74|  9.53| 14.88|            36.99|19.1|       1.0|\n",
      "|    Destiny|   Carnival| 17|           101.353|     26.42|  8.92| 13.21|            38.36|10.0|       1.0|\n",
      "|    Ecstasy|   Carnival| 22|            70.367|     20.52|  8.55|  10.2|            34.29| 9.2|       1.0|\n",
      "|    Elation|   Carnival| 15|            70.367|     20.52|  8.55|  10.2|            34.29| 9.2|       1.0|\n",
      "|    Fantasy|   Carnival| 23|            70.367|     20.56|  8.55| 10.22|            34.23| 9.2|       1.0|\n",
      "|Fascination|   Carnival| 19|            70.367|     20.52|  8.55|  10.2|            34.29| 9.2|       1.0|\n",
      "|    Freedom|   Carnival|  6|110.23899999999999|      37.0|  9.51| 14.87|            29.79|11.5|       1.0|\n",
      "|      Glory|   Carnival| 10|             110.0|     29.74|  9.51| 14.87|            36.99|11.6|       1.0|\n",
      "|    Holiday|   Carnival| 28|            46.052|     14.52|  7.27|  7.26|            31.72| 6.6|       1.0|\n",
      "|Imagination|   Carnival| 18|            70.367|     20.52|  8.55|  10.2|            34.29| 9.2|       1.0|\n",
      "|Inspiration|   Carnival| 17|            70.367|     20.52|  8.55|  10.2|            34.29| 9.2|       1.0|\n",
      "|     Legend|   Carnival| 11|              86.0|     21.24|  9.63| 10.62|            40.49| 9.3|       1.0|\n",
      "|   Liberty*|   Carnival|  8|             110.0|     29.74|  9.51| 14.87|            36.99|11.6|       1.0|\n",
      "|    Miracle|   Carnival|  9|              88.5|     21.24|  9.63| 10.62|            41.67|10.3|       1.0|\n",
      "|   Paradise|   Carnival| 15|            70.367|     20.52|  8.55|  10.2|            34.29| 9.2|       1.0|\n",
      "|      Pride|   Carnival| 12|              88.5|     21.24|  9.63| 11.62|            41.67| 9.3|       1.0|\n",
      "|  Sensation|   Carnival| 20|            70.367|     20.52|  8.55|  10.2|            34.29| 9.2|       1.0|\n",
      "+-----------+-----------+---+------------------+----------+------+------+-----------------+----+----------+\n",
      "only showing top 20 rows\n",
      "\n"
     ]
    }
   ],
   "source": [
    "indexed.show()"
   ]
  },
  {
   "cell_type": "code",
   "execution_count": 12,
   "id": "0e259d0e",
   "metadata": {
    "execution": {
     "iopub.execute_input": "2022-10-28T08:51:36.485756Z",
     "iopub.status.busy": "2022-10-28T08:51:36.485254Z",
     "iopub.status.idle": "2022-10-28T08:51:36.490903Z",
     "shell.execute_reply": "2022-10-28T08:51:36.489802Z"
    },
    "id": "b88eU1nIIWew",
    "papermill": {
     "duration": 0.041705,
     "end_time": "2022-10-28T08:51:36.493517",
     "exception": false,
     "start_time": "2022-10-28T08:51:36.451812",
     "status": "completed"
    },
    "tags": []
   },
   "outputs": [],
   "source": [
    "from pyspark.ml.feature import VectorAssembler"
   ]
  },
  {
   "cell_type": "code",
   "execution_count": 13,
   "id": "7cde29df",
   "metadata": {
    "execution": {
     "iopub.execute_input": "2022-10-28T08:51:36.556351Z",
     "iopub.status.busy": "2022-10-28T08:51:36.555652Z",
     "iopub.status.idle": "2022-10-28T08:51:36.588829Z",
     "shell.execute_reply": "2022-10-28T08:51:36.587663Z"
    },
    "id": "v9blhlyrIjLL",
    "outputId": "a0bcc858-ddb6-4e5e-9879-c2c155d8345d",
    "papermill": {
     "duration": 0.067457,
     "end_time": "2022-10-28T08:51:36.591789",
     "exception": false,
     "start_time": "2022-10-28T08:51:36.524332",
     "status": "completed"
    },
    "tags": []
   },
   "outputs": [
    {
     "data": {
      "text/plain": [
       "['Ship_name',\n",
       " 'Cruise_line',\n",
       " 'Age',\n",
       " 'Tonnage',\n",
       " 'passengers',\n",
       " 'length',\n",
       " 'cabins',\n",
       " 'passenger_density',\n",
       " 'crew',\n",
       " 'cruise_cat']"
      ]
     },
     "execution_count": 13,
     "metadata": {},
     "output_type": "execute_result"
    }
   ],
   "source": [
    "indexed.columns"
   ]
  },
  {
   "cell_type": "code",
   "execution_count": 14,
   "id": "ca2f05e1",
   "metadata": {
    "execution": {
     "iopub.execute_input": "2022-10-28T08:51:36.641704Z",
     "iopub.status.busy": "2022-10-28T08:51:36.640808Z",
     "iopub.status.idle": "2022-10-28T08:51:36.657030Z",
     "shell.execute_reply": "2022-10-28T08:51:36.655949Z"
    },
    "id": "udCa7cT9Im8U",
    "papermill": {
     "duration": 0.041306,
     "end_time": "2022-10-28T08:51:36.659322",
     "exception": false,
     "start_time": "2022-10-28T08:51:36.618016",
     "status": "completed"
    },
    "tags": []
   },
   "outputs": [],
   "source": [
    "assembler = VectorAssembler(\n",
    "    inputCols=['Age',\n",
    "               'Tonnage',\n",
    "               'passengers',\n",
    "               'length',\n",
    "               'cabins',\n",
    "               'passenger_density',\n",
    "               'cruise_cat'],\n",
    "    outputCol=\"features\"\n",
    ")"
   ]
  },
  {
   "cell_type": "code",
   "execution_count": 15,
   "id": "cefb5cbf",
   "metadata": {
    "execution": {
     "iopub.execute_input": "2022-10-28T08:51:36.704164Z",
     "iopub.status.busy": "2022-10-28T08:51:36.702861Z",
     "iopub.status.idle": "2022-10-28T08:51:36.794955Z",
     "shell.execute_reply": "2022-10-28T08:51:36.793731Z"
    },
    "id": "VDL-DRrsI9V8",
    "papermill": {
     "duration": 0.118219,
     "end_time": "2022-10-28T08:51:36.798590",
     "exception": false,
     "start_time": "2022-10-28T08:51:36.680371",
     "status": "completed"
    },
    "tags": []
   },
   "outputs": [],
   "source": [
    "output = assembler.transform(indexed)"
   ]
  },
  {
   "cell_type": "code",
   "execution_count": 16,
   "id": "04211828",
   "metadata": {
    "execution": {
     "iopub.execute_input": "2022-10-28T08:51:36.843102Z",
     "iopub.status.busy": "2022-10-28T08:51:36.842470Z",
     "iopub.status.idle": "2022-10-28T08:51:37.243839Z",
     "shell.execute_reply": "2022-10-28T08:51:37.242475Z"
    },
    "id": "_Gf3ajUdJAWk",
    "outputId": "f099247a-b3ad-4c68-e917-9946529fc576",
    "papermill": {
     "duration": 0.426623,
     "end_time": "2022-10-28T08:51:37.247100",
     "exception": false,
     "start_time": "2022-10-28T08:51:36.820477",
     "status": "completed"
    },
    "tags": []
   },
   "outputs": [
    {
     "name": "stdout",
     "output_type": "stream",
     "text": [
      "+--------------------+----+\n",
      "|            features|crew|\n",
      "+--------------------+----+\n",
      "|[6.0,30.276999999...|3.55|\n",
      "|[6.0,30.276999999...|3.55|\n",
      "|[26.0,47.262,14.8...| 6.7|\n",
      "|[11.0,110.0,29.74...|19.1|\n",
      "|[17.0,101.353,26....|10.0|\n",
      "|[22.0,70.367,20.5...| 9.2|\n",
      "|[15.0,70.367,20.5...| 9.2|\n",
      "|[23.0,70.367,20.5...| 9.2|\n",
      "|[19.0,70.367,20.5...| 9.2|\n",
      "|[6.0,110.23899999...|11.5|\n",
      "|[10.0,110.0,29.74...|11.6|\n",
      "|[28.0,46.052,14.5...| 6.6|\n",
      "|[18.0,70.367,20.5...| 9.2|\n",
      "|[17.0,70.367,20.5...| 9.2|\n",
      "|[11.0,86.0,21.24,...| 9.3|\n",
      "|[8.0,110.0,29.74,...|11.6|\n",
      "|[9.0,88.5,21.24,9...|10.3|\n",
      "|[15.0,70.367,20.5...| 9.2|\n",
      "|[12.0,88.5,21.24,...| 9.3|\n",
      "|[20.0,70.367,20.5...| 9.2|\n",
      "+--------------------+----+\n",
      "only showing top 20 rows\n",
      "\n"
     ]
    }
   ],
   "source": [
    "output.select(\"features\",\"crew\").show()"
   ]
  },
  {
   "cell_type": "code",
   "execution_count": 17,
   "id": "8b006835",
   "metadata": {
    "execution": {
     "iopub.execute_input": "2022-10-28T08:51:37.313712Z",
     "iopub.status.busy": "2022-10-28T08:51:37.313320Z",
     "iopub.status.idle": "2022-10-28T08:51:37.330386Z",
     "shell.execute_reply": "2022-10-28T08:51:37.329203Z"
    },
    "id": "0VQhDRhHJDKh",
    "papermill": {
     "duration": 0.053876,
     "end_time": "2022-10-28T08:51:37.333384",
     "exception": false,
     "start_time": "2022-10-28T08:51:37.279508",
     "status": "completed"
    },
    "tags": []
   },
   "outputs": [],
   "source": [
    "final_data = output.select(\"features\",\"crew\")"
   ]
  },
  {
   "cell_type": "code",
   "execution_count": 18,
   "id": "db6865f2",
   "metadata": {
    "execution": {
     "iopub.execute_input": "2022-10-28T08:51:37.386139Z",
     "iopub.status.busy": "2022-10-28T08:51:37.385592Z",
     "iopub.status.idle": "2022-10-28T08:51:37.412833Z",
     "shell.execute_reply": "2022-10-28T08:51:37.411552Z"
    },
    "id": "7Kh9i7eQJPXv",
    "papermill": {
     "duration": 0.051952,
     "end_time": "2022-10-28T08:51:37.415376",
     "exception": false,
     "start_time": "2022-10-28T08:51:37.363424",
     "status": "completed"
    },
    "tags": []
   },
   "outputs": [],
   "source": [
    "train_data, test_data = final_data.randomSplit([0.7, 0.3], seed=42)"
   ]
  },
  {
   "cell_type": "code",
   "execution_count": 19,
   "id": "1c676f88",
   "metadata": {
    "execution": {
     "iopub.execute_input": "2022-10-28T08:51:37.459418Z",
     "iopub.status.busy": "2022-10-28T08:51:37.458436Z",
     "iopub.status.idle": "2022-10-28T08:51:37.462583Z",
     "shell.execute_reply": "2022-10-28T08:51:37.461903Z"
    },
    "id": "Vjwv0R3WJZZh",
    "papermill": {
     "duration": 0.028053,
     "end_time": "2022-10-28T08:51:37.464475",
     "exception": false,
     "start_time": "2022-10-28T08:51:37.436422",
     "status": "completed"
    },
    "tags": []
   },
   "outputs": [],
   "source": [
    "from pyspark.ml.regression import LinearRegression"
   ]
  },
  {
   "cell_type": "code",
   "execution_count": 20,
   "id": "bacc10f7",
   "metadata": {
    "execution": {
     "iopub.execute_input": "2022-10-28T08:51:37.507681Z",
     "iopub.status.busy": "2022-10-28T08:51:37.506977Z",
     "iopub.status.idle": "2022-10-28T08:51:37.547340Z",
     "shell.execute_reply": "2022-10-28T08:51:37.546500Z"
    },
    "id": "ppiH2DO5JiW_",
    "papermill": {
     "duration": 0.065573,
     "end_time": "2022-10-28T08:51:37.550673",
     "exception": false,
     "start_time": "2022-10-28T08:51:37.485100",
     "status": "completed"
    },
    "tags": []
   },
   "outputs": [],
   "source": [
    "lr = LinearRegression(labelCol=\"crew\")"
   ]
  },
  {
   "cell_type": "code",
   "execution_count": 21,
   "id": "7c6a53bc",
   "metadata": {
    "execution": {
     "iopub.execute_input": "2022-10-28T08:51:37.595261Z",
     "iopub.status.busy": "2022-10-28T08:51:37.594885Z",
     "iopub.status.idle": "2022-10-28T08:51:38.657279Z",
     "shell.execute_reply": "2022-10-28T08:51:38.656342Z"
    },
    "id": "xjU6c_4gJmQf",
    "papermill": {
     "duration": 1.087307,
     "end_time": "2022-10-28T08:51:38.659834",
     "exception": false,
     "start_time": "2022-10-28T08:51:37.572527",
     "status": "completed"
    },
    "tags": []
   },
   "outputs": [
    {
     "name": "stdout",
     "output_type": "stream",
     "text": [
      "22/10/28 08:51:37 WARN Instrumentation: [d27c6cf6] regParam is zero, which might cause numerical instability and overfitting.\n"
     ]
    }
   ],
   "source": [
    "model = lr.fit(train_data)"
   ]
  },
  {
   "cell_type": "code",
   "execution_count": 22,
   "id": "ebbdf5f4",
   "metadata": {
    "execution": {
     "iopub.execute_input": "2022-10-28T08:51:38.705568Z",
     "iopub.status.busy": "2022-10-28T08:51:38.704331Z",
     "iopub.status.idle": "2022-10-28T08:51:38.709564Z",
     "shell.execute_reply": "2022-10-28T08:51:38.708743Z"
    },
    "id": "wIvsejEUJpU-",
    "papermill": {
     "duration": 0.030026,
     "end_time": "2022-10-28T08:51:38.711707",
     "exception": false,
     "start_time": "2022-10-28T08:51:38.681681",
     "status": "completed"
    },
    "tags": []
   },
   "outputs": [],
   "source": [
    "import pandas as pd"
   ]
  },
  {
   "cell_type": "code",
   "execution_count": 23,
   "id": "44f48cce",
   "metadata": {
    "execution": {
     "iopub.execute_input": "2022-10-28T08:51:38.760897Z",
     "iopub.status.busy": "2022-10-28T08:51:38.760443Z",
     "iopub.status.idle": "2022-10-28T08:51:38.785187Z",
     "shell.execute_reply": "2022-10-28T08:51:38.784340Z"
    },
    "id": "VyQF7fIHJrmr",
    "papermill": {
     "duration": 0.049837,
     "end_time": "2022-10-28T08:51:38.787791",
     "exception": false,
     "start_time": "2022-10-28T08:51:38.737954",
     "status": "completed"
    },
    "tags": []
   },
   "outputs": [],
   "source": [
    "coeff = model.coefficients\n",
    "col_names = ['Age',\n",
    "               'Tonnage',\n",
    "               'passengers',\n",
    "               'length',\n",
    "               'cabins',\n",
    "               'passenger_density',\n",
    "               'cruise_cat']"
   ]
  },
  {
   "cell_type": "code",
   "execution_count": 24,
   "id": "40429fac",
   "metadata": {
    "execution": {
     "iopub.execute_input": "2022-10-28T08:51:38.832338Z",
     "iopub.status.busy": "2022-10-28T08:51:38.831714Z",
     "iopub.status.idle": "2022-10-28T08:51:38.856419Z",
     "shell.execute_reply": "2022-10-28T08:51:38.855129Z"
    },
    "id": "EzbBlQr3J1gS",
    "outputId": "3980e0a7-98cd-4349-8c0a-dadc2effcd18",
    "papermill": {
     "duration": 0.049904,
     "end_time": "2022-10-28T08:51:38.859242",
     "exception": false,
     "start_time": "2022-10-28T08:51:38.809338",
     "status": "completed"
    },
    "tags": []
   },
   "outputs": [
    {
     "data": {
      "text/html": [
       "<div>\n",
       "<style scoped>\n",
       "    .dataframe tbody tr th:only-of-type {\n",
       "        vertical-align: middle;\n",
       "    }\n",
       "\n",
       "    .dataframe tbody tr th {\n",
       "        vertical-align: top;\n",
       "    }\n",
       "\n",
       "    .dataframe thead th {\n",
       "        text-align: right;\n",
       "    }\n",
       "</style>\n",
       "<table border=\"1\" class=\"dataframe\">\n",
       "  <thead>\n",
       "    <tr style=\"text-align: right;\">\n",
       "      <th></th>\n",
       "      <th>Variable Names</th>\n",
       "      <th>Coefficients</th>\n",
       "    </tr>\n",
       "  </thead>\n",
       "  <tbody>\n",
       "    <tr>\n",
       "      <th>0</th>\n",
       "      <td>Age</td>\n",
       "      <td>-0.018081</td>\n",
       "    </tr>\n",
       "    <tr>\n",
       "      <th>1</th>\n",
       "      <td>Tonnage</td>\n",
       "      <td>0.005579</td>\n",
       "    </tr>\n",
       "    <tr>\n",
       "      <th>2</th>\n",
       "      <td>passengers</td>\n",
       "      <td>-0.157998</td>\n",
       "    </tr>\n",
       "    <tr>\n",
       "      <th>3</th>\n",
       "      <td>length</td>\n",
       "      <td>0.466516</td>\n",
       "    </tr>\n",
       "    <tr>\n",
       "      <th>4</th>\n",
       "      <td>cabins</td>\n",
       "      <td>0.901292</td>\n",
       "    </tr>\n",
       "    <tr>\n",
       "      <th>5</th>\n",
       "      <td>passenger_density</td>\n",
       "      <td>-0.009091</td>\n",
       "    </tr>\n",
       "    <tr>\n",
       "      <th>6</th>\n",
       "      <td>cruise_cat</td>\n",
       "      <td>0.057714</td>\n",
       "    </tr>\n",
       "  </tbody>\n",
       "</table>\n",
       "</div>"
      ],
      "text/plain": [
       "      Variable Names  Coefficients\n",
       "0                Age     -0.018081\n",
       "1            Tonnage      0.005579\n",
       "2         passengers     -0.157998\n",
       "3             length      0.466516\n",
       "4             cabins      0.901292\n",
       "5  passenger_density     -0.009091\n",
       "6         cruise_cat      0.057714"
      ]
     },
     "execution_count": 24,
     "metadata": {},
     "output_type": "execute_result"
    }
   ],
   "source": [
    "pd.DataFrame({\"Variable Names\":col_names, \"Coefficients\":coeff})"
   ]
  },
  {
   "cell_type": "code",
   "execution_count": 25,
   "id": "fe0cbd01",
   "metadata": {
    "execution": {
     "iopub.execute_input": "2022-10-28T08:51:38.904410Z",
     "iopub.status.busy": "2022-10-28T08:51:38.903620Z",
     "iopub.status.idle": "2022-10-28T08:51:39.134265Z",
     "shell.execute_reply": "2022-10-28T08:51:39.133062Z"
    },
    "id": "8W1j1geOJ-q7",
    "papermill": {
     "duration": 0.257339,
     "end_time": "2022-10-28T08:51:39.138162",
     "exception": false,
     "start_time": "2022-10-28T08:51:38.880823",
     "status": "completed"
    },
    "tags": []
   },
   "outputs": [],
   "source": [
    "res = model.evaluate(test_data)"
   ]
  },
  {
   "cell_type": "code",
   "execution_count": 26,
   "id": "7ef51ece",
   "metadata": {
    "execution": {
     "iopub.execute_input": "2022-10-28T08:51:39.198514Z",
     "iopub.status.busy": "2022-10-28T08:51:39.198099Z",
     "iopub.status.idle": "2022-10-28T08:51:39.205405Z",
     "shell.execute_reply": "2022-10-28T08:51:39.204150Z"
    },
    "id": "04FQXqNOKYnR",
    "outputId": "dfd0cfc0-b1d9-4980-b353-31d14448726d",
    "papermill": {
     "duration": 0.037187,
     "end_time": "2022-10-28T08:51:39.208312",
     "exception": false,
     "start_time": "2022-10-28T08:51:39.171125",
     "status": "completed"
    },
    "tags": []
   },
   "outputs": [
    {
     "name": "stdout",
     "output_type": "stream",
     "text": [
      "\n",
      "Linear Regression Results Report\n",
      "==================================\n",
      "RMSE:\t 0.7315539252278921\n",
      "MSE:\t 0.5351711455163363\n",
      "R2:\t 0.9241500945990767\n",
      "Adj R2:\t0.9108763611539151\n",
      "==================================\n",
      "\n"
     ]
    }
   ],
   "source": [
    "print(f\"\"\"\n",
    "Linear Regression Results Report\n",
    "==================================\n",
    "RMSE:\\t {res.rootMeanSquaredError}\n",
    "MSE:\\t {res.meanSquaredError}\n",
    "R2:\\t {res.r2}\n",
    "Adj R2:\\t{res.r2adj}\n",
    "==================================\n",
    "\"\"\"\n",
    ")"
   ]
  },
  {
   "cell_type": "code",
   "execution_count": 27,
   "id": "f4fbc1f9",
   "metadata": {
    "execution": {
     "iopub.execute_input": "2022-10-28T08:51:39.253096Z",
     "iopub.status.busy": "2022-10-28T08:51:39.252513Z",
     "iopub.status.idle": "2022-10-28T08:51:39.256282Z",
     "shell.execute_reply": "2022-10-28T08:51:39.255571Z"
    },
    "id": "K2F-3RCmKv6R",
    "papermill": {
     "duration": 0.028164,
     "end_time": "2022-10-28T08:51:39.258513",
     "exception": false,
     "start_time": "2022-10-28T08:51:39.230349",
     "status": "completed"
    },
    "tags": []
   },
   "outputs": [],
   "source": [
    "from pyspark.sql.functions import corr"
   ]
  },
  {
   "cell_type": "code",
   "execution_count": 28,
   "id": "3eff6076",
   "metadata": {
    "execution": {
     "iopub.execute_input": "2022-10-28T08:51:39.302916Z",
     "iopub.status.busy": "2022-10-28T08:51:39.301760Z",
     "iopub.status.idle": "2022-10-28T08:51:39.622142Z",
     "shell.execute_reply": "2022-10-28T08:51:39.620949Z"
    },
    "id": "WiF8NPbmK-mZ",
    "outputId": "c85037a8-af7c-46dc-8fb1-1504722f2e33",
    "papermill": {
     "duration": 0.348157,
     "end_time": "2022-10-28T08:51:39.627529",
     "exception": false,
     "start_time": "2022-10-28T08:51:39.279372",
     "status": "completed"
    },
    "tags": []
   },
   "outputs": [
    {
     "name": "stdout",
     "output_type": "stream",
     "text": [
      "+----------------------+\n",
      "|corr(crew, passengers)|\n",
      "+----------------------+\n",
      "|    0.9152341306065384|\n",
      "+----------------------+\n",
      "\n"
     ]
    }
   ],
   "source": [
    "df.select(corr('crew', 'passengers')).show()"
   ]
  },
  {
   "cell_type": "code",
   "execution_count": 29,
   "id": "72db2c0c",
   "metadata": {
    "execution": {
     "iopub.execute_input": "2022-10-28T08:51:39.702731Z",
     "iopub.status.busy": "2022-10-28T08:51:39.702167Z",
     "iopub.status.idle": "2022-10-28T08:51:39.895575Z",
     "shell.execute_reply": "2022-10-28T08:51:39.893802Z"
    },
    "id": "SlgVStY8LC1w",
    "outputId": "0c059ae4-3c99-432b-a65d-3cd44f6b8317",
    "papermill": {
     "duration": 0.233339,
     "end_time": "2022-10-28T08:51:39.900535",
     "exception": false,
     "start_time": "2022-10-28T08:51:39.667196",
     "status": "completed"
    },
    "tags": []
   },
   "outputs": [
    {
     "name": "stdout",
     "output_type": "stream",
     "text": [
      "+------------------+\n",
      "|corr(crew, cabins)|\n",
      "+------------------+\n",
      "|0.9508226063578497|\n",
      "+------------------+\n",
      "\n"
     ]
    }
   ],
   "source": [
    "df.select(corr('crew', 'cabins')).show()"
   ]
  },
  {
   "cell_type": "code",
   "execution_count": 30,
   "id": "e2c06fee",
   "metadata": {
    "execution": {
     "iopub.execute_input": "2022-10-28T08:51:39.966657Z",
     "iopub.status.busy": "2022-10-28T08:51:39.965805Z",
     "iopub.status.idle": "2022-10-28T08:51:40.219474Z",
     "shell.execute_reply": "2022-10-28T08:51:40.218396Z"
    },
    "id": "CdctdXFGArej",
    "outputId": "f787d93e-21cc-4d5d-9978-e799c28ee4ca",
    "papermill": {
     "duration": 0.289994,
     "end_time": "2022-10-28T08:51:40.222833",
     "exception": false,
     "start_time": "2022-10-28T08:51:39.932839",
     "status": "completed"
    },
    "tags": []
   },
   "outputs": [
    {
     "name": "stdout",
     "output_type": "stream",
     "text": [
      "+-------------------+\n",
      "|    corr(crew, Age)|\n",
      "+-------------------+\n",
      "|-0.5306565039638852|\n",
      "+-------------------+\n",
      "\n"
     ]
    }
   ],
   "source": [
    "df.select(corr('crew', 'Age')).show()"
   ]
  }
 ],
 "metadata": {
  "kernelspec": {
   "display_name": "Python 3",
   "language": "python",
   "name": "python3"
  },
  "language_info": {
   "codemirror_mode": {
    "name": "ipython",
    "version": 3
   },
   "file_extension": ".py",
   "mimetype": "text/x-python",
   "name": "python",
   "nbconvert_exporter": "python",
   "pygments_lexer": "ipython3",
   "version": "3.7.12"
  },
  "papermill": {
   "default_parameters": {},
   "duration": 80.530269,
   "end_time": "2022-10-28T08:51:42.881693",
   "environment_variables": {},
   "exception": null,
   "input_path": "__notebook__.ipynb",
   "output_path": "__notebook__.ipynb",
   "parameters": {},
   "start_time": "2022-10-28T08:50:22.351424",
   "version": "2.3.4"
  }
 },
 "nbformat": 4,
 "nbformat_minor": 5
}
