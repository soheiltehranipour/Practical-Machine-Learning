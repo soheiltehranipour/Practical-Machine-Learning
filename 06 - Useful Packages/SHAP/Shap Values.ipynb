{
 "cells": [
  {
   "cell_type": "markdown",
   "metadata": {},
   "source": [
    "<div class=\"alert alert-block alert-success\">\n",
    "    <h1 align=\"center\">SHAP Values</h1>\n",
    "    <h3 align=\"center\">SHAP (SHapley Additive exPlanations)</h3>\n",
    "    <h4 align=\"center\"><a href=\"http://www.iran-machinelearning.ir\">Soheil Tehranipour</a></h5>\n",
    "</div>"
   ]
  },
  {
   "cell_type": "markdown",
   "metadata": {},
   "source": [
    "<img src=\"https://raw.githubusercontent.com/slundberg/shap/master/docs/artwork/shap_header.svg\">"
   ]
  },
  {
   "cell_type": "markdown",
   "metadata": {},
   "source": [
    "# What is SHAP Analysis?\n",
    "\n",
    "If you Google ‘SHAP analysis’, you will find that the term comes from a 2017 paper by Lundberg and Lee, called “A Unified Approach to Interpreting Model Predictions”, which introduces the concept of SHapley Additive exPlanations (SHAP). The goal of SHAP is to explain a machine learning model’s prediction by calculating the contribution of each feature to the prediction.\n",
    "\n",
    "The technical explanation is that it does this by computing Shapley values from coalitional game theory. Of course, if you’re unfamiliar with game theory and data science, that may not mean much to you. Simply put, Shapely values is a method for showing the relative impact of each feature (or variable) we are measuring on the eventual output of the machine learning model by comparing the relative effect of the inputs against the average."
   ]
  },
  {
   "cell_type": "markdown",
   "metadata": {},
   "source": [
    "# SHAP Analysis Explained\n",
    "Think of buying a second-hand car: You have a particular make and model in mind and a quick search online shows a variety of prices and conditions. In terms of coalitional game theory, the “game” is predicting the price of a specific car. The prediction will have a combination of features, called a “coalition”. The “gain” is the difference between the predicted price for a car against the average predicted price for all combinations of features. The “players” are the feature values that you input into the model which work together to create the gain (or difference from the average value).\n",
    "\n",
    "Say the average price of your desired car is $20,000. Several factors will move that price up or down for a given vehicle. Age, trim level, condition, and mileage will all influence the price on the vehicle. That’s why it can be difficult to tell if a specific car is priced properly above or below market given all the variables.\n",
    "\n",
    "Machine learning can solve this problem by building a model to predict what the price should be for a specific vehicle, taking all the variables into account. A SHAP analysis of that model will give you an indication of how significant each factor is in determining the final price prediction the model outputs. It does this by running a large number of predictions comparing the impact of a variable against the other features.\n",
    "\n",
    "In our example, it’s easy to see that if I look the prices of cars with varying mileage but the same model year, condition and trim level, I can ascertain the impact of mileage on the overall price. SHAP is a bit more complicated since the analysis runs against the varying ‘coalitions’ or combinations of the other variables to get an average impact of the mileage of the car against all possible combinations of features.\n",
    "\n",
    "In our example, we would end up running a machine learning model varying mileage against all the possible combinations of trim level, model year and condition. Obviously, this means running a lot of combinations through the machine learning model, as the number of combinations grows exponentially with the number of variables you are looking at.\n",
    "\n",
    "In the used car case, we would have the following coalitions:\n",
    "\n",
    "    Trim Level\n",
    "    Mileage\n",
    "    Model Year\n",
    "    Condition\n",
    "    Trim Level + Mileage\n",
    "    Trim Level + Model Year\n",
    "    Trim Level + Condition\n",
    "    Mileage + Model Year\n",
    "    Mileage + Condition\n",
    "    Trim Level + Mileage + Model Year\n",
    "    Trim Level + Model Year + Condition\n",
    "    Mileage + Trim Level + Condition\n",
    "    Mileage + Model Year + Condition\n",
    "    Mileage + Trim Level + Model Year + Condition"
   ]
  },
  {
   "cell_type": "code",
   "execution_count": 1,
   "metadata": {
    "scrolled": true
   },
   "outputs": [
    {
     "name": "stdout",
     "output_type": "stream",
     "text": [
      "Collecting shap\n",
      "  Downloading shap-0.41.0-cp39-cp39-win_amd64.whl (435 kB)\n",
      "     ------------------------------------ 435.6/435.6 kB 973.3 kB/s eta 0:00:00\n",
      "Requirement already satisfied: scikit-learn in c:\\users\\soso\\anaconda3\\lib\\site-packages (from shap) (1.1.3)\n",
      "Collecting slicer==0.0.7\n",
      "  Downloading slicer-0.0.7-py3-none-any.whl (14 kB)\n",
      "Requirement already satisfied: tqdm>4.25.0 in c:\\users\\soso\\anaconda3\\lib\\site-packages (from shap) (4.64.1)\n",
      "Requirement already satisfied: numpy in c:\\users\\soso\\anaconda3\\lib\\site-packages (from shap) (1.21.5)\n",
      "Requirement already satisfied: numba in c:\\users\\soso\\anaconda3\\lib\\site-packages (from shap) (0.56.3)\n",
      "Requirement already satisfied: cloudpickle in c:\\users\\soso\\anaconda3\\lib\\site-packages (from shap) (2.0.0)\n",
      "Requirement already satisfied: packaging>20.9 in c:\\users\\soso\\anaconda3\\lib\\site-packages (from shap) (21.3)\n",
      "Requirement already satisfied: scipy in c:\\users\\soso\\anaconda3\\lib\\site-packages (from shap) (1.9.3)\n",
      "Requirement already satisfied: pandas in c:\\users\\soso\\anaconda3\\lib\\site-packages (from shap) (1.4.4)\n",
      "Requirement already satisfied: pyparsing!=3.0.5,>=2.0.2 in c:\\users\\soso\\anaconda3\\lib\\site-packages (from packaging>20.9->shap) (3.0.9)\n",
      "Requirement already satisfied: colorama in c:\\users\\soso\\anaconda3\\lib\\site-packages (from tqdm>4.25.0->shap) (0.4.5)\n",
      "Requirement already satisfied: setuptools in c:\\users\\soso\\anaconda3\\lib\\site-packages (from numba->shap) (65.5.0)\n",
      "Requirement already satisfied: llvmlite<0.40,>=0.39.0dev0 in c:\\users\\soso\\anaconda3\\lib\\site-packages (from numba->shap) (0.39.1)\n",
      "Requirement already satisfied: pytz>=2020.1 in c:\\users\\soso\\anaconda3\\lib\\site-packages (from pandas->shap) (2022.1)\n",
      "Requirement already satisfied: python-dateutil>=2.8.1 in c:\\users\\soso\\anaconda3\\lib\\site-packages (from pandas->shap) (2.8.2)\n",
      "Requirement already satisfied: joblib>=1.0.0 in c:\\users\\soso\\anaconda3\\lib\\site-packages (from scikit-learn->shap) (1.1.1)\n",
      "Requirement already satisfied: threadpoolctl>=2.0.0 in c:\\users\\soso\\anaconda3\\lib\\site-packages (from scikit-learn->shap) (2.2.0)\n",
      "Requirement already satisfied: six>=1.5 in c:\\users\\soso\\anaconda3\\lib\\site-packages (from python-dateutil>=2.8.1->pandas->shap) (1.16.0)\n",
      "Installing collected packages: slicer, shap\n",
      "Successfully installed shap-0.41.0 slicer-0.0.7\n"
     ]
    }
   ],
   "source": [
    "!pip install shap"
   ]
  },
  {
   "cell_type": "code",
   "execution_count": 379,
   "metadata": {},
   "outputs": [],
   "source": [
    "import pandas as pd\n",
    "import shap\n",
    "from sklearn.model_selection import train_test_split\n",
    "from sklearn.pipeline import Pipeline\n",
    "from sklearn.preprocessing import OrdinalEncoder, StandardScaler, OneHotEncoder\n",
    "from sklearn_pandas import DataFrameMapper\n",
    "from sklearn.impute import SimpleImputer\n",
    "from sklearn.linear_model import LinearRegression\n",
    "from sklearn.metrics import mean_absolute_error\n",
    "import statsmodels.api as sm\n",
    "import numpy as np\n",
    "import matplotlib.pyplot as plt"
   ]
  },
  {
   "cell_type": "code",
   "execution_count": 380,
   "metadata": {},
   "outputs": [],
   "source": [
    "X, y = shap.datasets.boston()"
   ]
  },
  {
   "cell_type": "code",
   "execution_count": 381,
   "metadata": {},
   "outputs": [
    {
     "name": "stdout",
     "output_type": "stream",
     "text": [
      "Mean value of median house prices (in $ thousand): 22.53\n"
     ]
    }
   ],
   "source": [
    "print(f\"Mean value of median house prices (in $ thousand): {round(y.mean(), 2)}\")"
   ]
  },
  {
   "cell_type": "code",
   "execution_count": 382,
   "metadata": {},
   "outputs": [],
   "source": [
    "X_train, X_test, y_train, y_test = train_test_split(X, y, test_size=0.1, shuffle=False)"
   ]
  },
  {
   "cell_type": "markdown",
   "metadata": {},
   "source": [
    "## Linear Regression"
   ]
  },
  {
   "cell_type": "code",
   "execution_count": 383,
   "metadata": {},
   "outputs": [],
   "source": [
    "catagorical_features = ['CHAS']\n",
    "numerical_features = [c for c in X_train.columns if c not in catagorical_features]\n",
    "cat = [([c], [OrdinalEncoder()]) for c in catagorical_features]\n",
    "num = [([n], [SimpleImputer(), StandardScaler()]) for n in numerical_features]\n",
    "mapper = DataFrameMapper(num + cat, df_out=True)\n",
    "preprocessed_X_train = mapper.fit_transform(X_train)\n",
    "preprocessed_X_train = sm.add_constant(preprocessed_X_train)\n",
    "reg = sm.OLS(y_train, preprocessed_X_train).fit()"
   ]
  },
  {
   "cell_type": "code",
   "execution_count": 384,
   "metadata": {},
   "outputs": [],
   "source": [
    "def evaluate(X, y, mapper=None, reg=None, transform=False):\n",
    "    if transform:\n",
    "        X = mapper.transform(X)\n",
    "        X = sm.add_constant(X, has_constant='add') \n",
    "    y_pred = reg.predict(X)\n",
    "    return mean_absolute_error(y, y_pred)"
   ]
  },
  {
   "cell_type": "code",
   "execution_count": 385,
   "metadata": {},
   "outputs": [
    {
     "name": "stdout",
     "output_type": "stream",
     "text": [
      "train MAE = 3.388, test MAE = 2.52 \n"
     ]
    }
   ],
   "source": [
    "train_mae = evaluate(X_train, y_train, mapper, reg, True)\n",
    "test_mae = evaluate(X_test, y_test, mapper, reg, True)\n",
    "print(f\"train MAE = {round(train_mae, 3)}, test MAE = {round(test_mae, 3)} \")"
   ]
  },
  {
   "cell_type": "code",
   "execution_count": 386,
   "metadata": {},
   "outputs": [
    {
     "data": {
      "text/html": [
       "<table class=\"simpletable\">\n",
       "<caption>OLS Regression Results</caption>\n",
       "<tr>\n",
       "  <th>Dep. Variable:</th>            <td>y</td>        <th>  R-squared:         </th> <td>   0.742</td> \n",
       "</tr>\n",
       "<tr>\n",
       "  <th>Model:</th>                   <td>OLS</td>       <th>  Adj. R-squared:    </th> <td>   0.734</td> \n",
       "</tr>\n",
       "<tr>\n",
       "  <th>Method:</th>             <td>Least Squares</td>  <th>  F-statistic:       </th> <td>   97.41</td> \n",
       "</tr>\n",
       "<tr>\n",
       "  <th>Date:</th>             <td>Mon, 26 Apr 2021</td> <th>  Prob (F-statistic):</th> <td>1.35e-120</td>\n",
       "</tr>\n",
       "<tr>\n",
       "  <th>Time:</th>                 <td>22:24:53</td>     <th>  Log-Likelihood:    </th> <td> -1361.2</td> \n",
       "</tr>\n",
       "<tr>\n",
       "  <th>No. Observations:</th>      <td>   455</td>      <th>  AIC:               </th> <td>   2750.</td> \n",
       "</tr>\n",
       "<tr>\n",
       "  <th>Df Residuals:</th>          <td>   441</td>      <th>  BIC:               </th> <td>   2808.</td> \n",
       "</tr>\n",
       "<tr>\n",
       "  <th>Df Model:</th>              <td>    13</td>      <th>                     </th>     <td> </td>    \n",
       "</tr>\n",
       "<tr>\n",
       "  <th>Covariance Type:</th>      <td>nonrobust</td>    <th>                     </th>     <td> </td>    \n",
       "</tr>\n",
       "</table>\n",
       "<table class=\"simpletable\">\n",
       "<tr>\n",
       "     <td></td>        <th>coef</th>     <th>std err</th>      <th>t</th>      <th>P>|t|</th>  <th>[0.025</th>    <th>0.975]</th>  \n",
       "</tr>\n",
       "<tr>\n",
       "  <th>const</th>   <td>   22.7675</td> <td>    0.240</td> <td>   95.013</td> <td> 0.000</td> <td>   22.297</td> <td>   23.238</td>\n",
       "</tr>\n",
       "<tr>\n",
       "  <th>CRIM</th>    <td>   -0.9544</td> <td>    0.316</td> <td>   -3.021</td> <td> 0.003</td> <td>   -1.575</td> <td>   -0.333</td>\n",
       "</tr>\n",
       "<tr>\n",
       "  <th>ZN</th>      <td>    1.1903</td> <td>    0.347</td> <td>    3.426</td> <td> 0.001</td> <td>    0.508</td> <td>    1.873</td>\n",
       "</tr>\n",
       "<tr>\n",
       "  <th>INDUS</th>   <td>    0.2159</td> <td>    0.445</td> <td>    0.485</td> <td> 0.628</td> <td>   -0.659</td> <td>    1.091</td>\n",
       "</tr>\n",
       "<tr>\n",
       "  <th>NOX</th>     <td>   -2.0944</td> <td>    0.505</td> <td>   -4.148</td> <td> 0.000</td> <td>   -3.087</td> <td>   -1.102</td>\n",
       "</tr>\n",
       "<tr>\n",
       "  <th>RM</th>      <td>    2.7612</td> <td>    0.317</td> <td>    8.700</td> <td> 0.000</td> <td>    2.137</td> <td>    3.385</td>\n",
       "</tr>\n",
       "<tr>\n",
       "  <th>AGE</th>     <td>    0.3042</td> <td>    0.411</td> <td>    0.739</td> <td> 0.460</td> <td>   -0.504</td> <td>    1.113</td>\n",
       "</tr>\n",
       "<tr>\n",
       "  <th>DIS</th>     <td>   -3.1207</td> <td>    0.460</td> <td>   -6.788</td> <td> 0.000</td> <td>   -4.024</td> <td>   -2.217</td>\n",
       "</tr>\n",
       "<tr>\n",
       "  <th>RAD</th>     <td>    2.9649</td> <td>    0.678</td> <td>    4.372</td> <td> 0.000</td> <td>    1.632</td> <td>    4.298</td>\n",
       "</tr>\n",
       "<tr>\n",
       "  <th>TAX</th>     <td>   -2.4522</td> <td>    0.715</td> <td>   -3.430</td> <td> 0.001</td> <td>   -3.857</td> <td>   -1.047</td>\n",
       "</tr>\n",
       "<tr>\n",
       "  <th>PTRATIO</th> <td>   -2.0042</td> <td>    0.310</td> <td>   -6.468</td> <td> 0.000</td> <td>   -2.613</td> <td>   -1.395</td>\n",
       "</tr>\n",
       "<tr>\n",
       "  <th>B</th>       <td>    0.8742</td> <td>    0.272</td> <td>    3.213</td> <td> 0.001</td> <td>    0.339</td> <td>    1.409</td>\n",
       "</tr>\n",
       "<tr>\n",
       "  <th>LSTAT</th>   <td>   -4.0539</td> <td>    0.394</td> <td>  -10.283</td> <td> 0.000</td> <td>   -4.829</td> <td>   -3.279</td>\n",
       "</tr>\n",
       "<tr>\n",
       "  <th>CHAS</th>    <td>    2.5088</td> <td>    0.895</td> <td>    2.804</td> <td> 0.005</td> <td>    0.750</td> <td>    4.267</td>\n",
       "</tr>\n",
       "</table>\n",
       "<table class=\"simpletable\">\n",
       "<tr>\n",
       "  <th>Omnibus:</th>       <td>152.667</td> <th>  Durbin-Watson:     </th> <td>   1.089</td> \n",
       "</tr>\n",
       "<tr>\n",
       "  <th>Prob(Omnibus):</th> <td> 0.000</td>  <th>  Jarque-Bera (JB):  </th> <td> 592.005</td> \n",
       "</tr>\n",
       "<tr>\n",
       "  <th>Skew:</th>          <td> 1.474</td>  <th>  Prob(JB):          </th> <td>2.80e-129</td>\n",
       "</tr>\n",
       "<tr>\n",
       "  <th>Kurtosis:</th>      <td> 7.747</td>  <th>  Cond. No.          </th> <td>    10.7</td> \n",
       "</tr>\n",
       "</table><br/><br/>Notes:<br/>[1] Standard Errors assume that the covariance matrix of the errors is correctly specified."
      ],
      "text/plain": [
       "<class 'statsmodels.iolib.summary.Summary'>\n",
       "\"\"\"\n",
       "                            OLS Regression Results                            \n",
       "==============================================================================\n",
       "Dep. Variable:                      y   R-squared:                       0.742\n",
       "Model:                            OLS   Adj. R-squared:                  0.734\n",
       "Method:                 Least Squares   F-statistic:                     97.41\n",
       "Date:                Mon, 26 Apr 2021   Prob (F-statistic):          1.35e-120\n",
       "Time:                        22:24:53   Log-Likelihood:                -1361.2\n",
       "No. Observations:                 455   AIC:                             2750.\n",
       "Df Residuals:                     441   BIC:                             2808.\n",
       "Df Model:                          13                                         \n",
       "Covariance Type:            nonrobust                                         \n",
       "==============================================================================\n",
       "                 coef    std err          t      P>|t|      [0.025      0.975]\n",
       "------------------------------------------------------------------------------\n",
       "const         22.7675      0.240     95.013      0.000      22.297      23.238\n",
       "CRIM          -0.9544      0.316     -3.021      0.003      -1.575      -0.333\n",
       "ZN             1.1903      0.347      3.426      0.001       0.508       1.873\n",
       "INDUS          0.2159      0.445      0.485      0.628      -0.659       1.091\n",
       "NOX           -2.0944      0.505     -4.148      0.000      -3.087      -1.102\n",
       "RM             2.7612      0.317      8.700      0.000       2.137       3.385\n",
       "AGE            0.3042      0.411      0.739      0.460      -0.504       1.113\n",
       "DIS           -3.1207      0.460     -6.788      0.000      -4.024      -2.217\n",
       "RAD            2.9649      0.678      4.372      0.000       1.632       4.298\n",
       "TAX           -2.4522      0.715     -3.430      0.001      -3.857      -1.047\n",
       "PTRATIO       -2.0042      0.310     -6.468      0.000      -2.613      -1.395\n",
       "B              0.8742      0.272      3.213      0.001       0.339       1.409\n",
       "LSTAT         -4.0539      0.394    -10.283      0.000      -4.829      -3.279\n",
       "CHAS           2.5088      0.895      2.804      0.005       0.750       4.267\n",
       "==============================================================================\n",
       "Omnibus:                      152.667   Durbin-Watson:                   1.089\n",
       "Prob(Omnibus):                  0.000   Jarque-Bera (JB):              592.005\n",
       "Skew:                           1.474   Prob(JB):                    2.80e-129\n",
       "Kurtosis:                       7.747   Cond. No.                         10.7\n",
       "==============================================================================\n",
       "\n",
       "Notes:\n",
       "[1] Standard Errors assume that the covariance matrix of the errors is correctly specified.\n",
       "\"\"\""
      ]
     },
     "execution_count": 386,
     "metadata": {},
     "output_type": "execute_result"
    }
   ],
   "source": [
    "reg.summary()"
   ]
  },
  {
   "cell_type": "markdown",
   "metadata": {},
   "source": [
    "## Random Forest "
   ]
  },
  {
   "cell_type": "code",
   "execution_count": 387,
   "metadata": {},
   "outputs": [
    {
     "name": "stdout",
     "output_type": "stream",
     "text": [
      "train MAE = 0.812, test MAE = 2.72 \n"
     ]
    }
   ],
   "source": [
    "X_train, X_test, y_train, y_test = train_test_split(X, y, test_size=0.1, shuffle=False)\n",
    "catagorical_features = ['CHAS']\n",
    "numerical_features = [c for c in X_train.columns if c not in catagorical_features]\n",
    "cat = [([c], [OrdinalEncoder()]) for c in catagorical_features]\n",
    "num = [([n], [SimpleImputer(), StandardScaler()]) for n in numerical_features]\n",
    "mapper = DataFrameMapper(num + cat, df_out=True)\n",
    "reg = RandomForestRegressor()\n",
    "pipeline = Pipeline([\n",
    "    ('preprocess', mapper),\n",
    "    ('reg', reg)\n",
    "])\n",
    "p = pipeline.fit(X_train, y_train)\n",
    "\n",
    "train_mae = evaluate(X_train, y_train, reg=pipeline)\n",
    "test_mae = evaluate(X_test, y_test, reg=pipeline)\n",
    "print(f\"train MAE = {round(train_mae, 3)}, test MAE = {round(test_mae, 3)} \")"
   ]
  },
  {
   "cell_type": "code",
   "execution_count": 388,
   "metadata": {},
   "outputs": [
    {
     "data": {
      "text/plain": [
       "<BarContainer object of 13 artists>"
      ]
     },
     "execution_count": 388,
     "metadata": {},
     "output_type": "execute_result"
    },
    {
     "data": {
      "image/png": "[encoded data removed]",
      "text/plain": [
       "<Figure size 432x288 with 1 Axes>"
      ]
     },
     "metadata": {
      "needs_background": "light"
     },
     "output_type": "display_data"
    }
   ],
   "source": [
    "sorted_idx = reg.feature_importances_.argsort()\n",
    "features = numerical_features + catagorical_features \n",
    "result = sorted(zip(features, reg.feature_importances_), key = lambda x: x[1], reverse=False)\n",
    "plt.barh([x[0] for x in result], [x[1] for x in result])"
   ]
  },
  {
   "cell_type": "markdown",
   "metadata": {},
   "source": [
    "## Neural Networks"
   ]
  },
  {
   "cell_type": "code",
   "execution_count": 393,
   "metadata": {
    "scrolled": true
   },
   "outputs": [
    {
     "name": "stdout",
     "output_type": "stream",
     "text": [
      "Epoch 0, Loss: 5640.127288818359\n",
      "Epoch 10, Loss: 431.3849811553955\n",
      "Epoch 20, Loss: 222.88272953033447\n",
      "Epoch 30, Loss: 216.2435703277588\n",
      "Epoch 40, Loss: 214.33188724517822\n",
      "\n",
      "train MAE = 3.397, test MAE = 2.49 \n"
     ]
    }
   ],
   "source": [
    "from torch.autograd import Variable\n",
    "import torch\n",
    "import torch.nn as nn\n",
    "import torch.optim as optim\n",
    "\n",
    "preprocessed_X_train = mapper.fit_transform(X_train)\n",
    "\n",
    "num_epochs = 50\n",
    "learning_rate = 0.01\n",
    "hidden_size = 32\n",
    "batch_size = 50\n",
    "input_dim = preprocessed_X_train.shape[1]\n",
    "batch_no = preprocessed_X_train.shape[0] // batch_size\n",
    "model = nn.Sequential(\n",
    "    nn.Linear(input_dim, hidden_size),\n",
    "    nn.Linear(hidden_size, 1)\n",
    ")\n",
    "criterion = nn.MSELoss()\n",
    "optimizer = optim.Adam(model.parameters(), lr=learning_rate)\n",
    "\n",
    "for epoch in range(num_epochs):\n",
    "    running_loss = 0.0\n",
    "    for i in range(batch_no):\n",
    "        start = i * batch_size\n",
    "        end = start + batch_size\n",
    "        x_batch = Variable(torch.FloatTensor(preprocessed_X_train.values[start:end]))\n",
    "        y_batch = Variable(torch.FloatTensor(y_train[start:end]))\n",
    "        optimizer.zero_grad()\n",
    "        y_preds = model(x_batch)\n",
    "        loss = criterion(y_preds, torch.unsqueeze(y_batch,dim=1))\n",
    "        loss.backward()\n",
    "        optimizer.step()\n",
    "        running_loss += loss.item()\n",
    "    if epoch % 10 == 0: \n",
    "        print(\"Epoch {}, Loss: {}\".format(epoch, running_loss))\n",
    "        \n",
    "preprocessed_X_test = mapper.transform(X_test)\n",
    "y_pred = model(torch.from_numpy(preprocessed_X_test.values).float()).flatten().detach().numpy()\n",
    "test_mae = mean_absolute_error(y_test, y_pred)\n",
    "preprocessed_X_train = mapper.transform(X_train)\n",
    "y_pred = model(torch.from_numpy(preprocessed_X_train.values).float()).flatten().detach().numpy()\n",
    "train_mae = mean_absolute_error(y_train, y_pred)\n",
    "print(f\"\\ntrain MAE = {round(train_mae, 3)}, test MAE = {round(test_mae, 3)} \")"
   ]
  },
  {
   "cell_type": "markdown",
   "metadata": {},
   "source": [
    "We don't have a direct way to identify feature importance for neural networks"
   ]
  },
  {
   "cell_type": "markdown",
   "metadata": {},
   "source": [
    "## Problems with Interpretation\n",
    "- No specific method to define feature importance that is model agnostic\n",
    "- For a given sample, why does the prediction have that value?\n",
    "\n",
    "Answer: Shap values"
   ]
  },
  {
   "cell_type": "markdown",
   "metadata": {},
   "source": [
    "## Intuition of Model Interpretation"
   ]
  },
  {
   "cell_type": "markdown",
   "metadata": {},
   "source": [
    "How we think about answering the question \"Why is the output for this specific sample so low/high\" manually?"
   ]
  },
  {
   "cell_type": "code",
   "execution_count": 440,
   "metadata": {},
   "outputs": [],
   "source": [
    "X_train, X_test, y_train, y_test = train_test_split(X, y, test_size=0.1, shuffle=False) #revert\n",
    "catagorical_features = ['CHAS']\n",
    "numerical_features = [c for c in X_train.columns if c not in catagorical_features]\n",
    "cat = [([c], [SimpleImputer(strategy='constant', fill_value=0),\n",
    "              OrdinalEncoder()]) for c in catagorical_features]\n",
    "num = [([n], [SimpleImputer(), StandardScaler()]) for n in numerical_features]\n",
    "mapper = DataFrameMapper(num + cat, df_out=True)\n",
    "reg = LinearRegression()\n",
    "pipeline = Pipeline([\n",
    "    ('preprocess', mapper),\n",
    "    ('reg', reg)\n",
    "])\n",
    "p = pipeline.fit(X_train, y_train)"
   ]
  },
  {
   "cell_type": "code",
   "execution_count": 441,
   "metadata": {},
   "outputs": [
    {
     "data": {
      "text/html": [
       "<div>\n",
       "<style scoped>\n",
       "    .dataframe tbody tr th:only-of-type {\n",
       "        vertical-align: middle;\n",
       "    }\n",
       "\n",
       "    .dataframe tbody tr th {\n",
       "        vertical-align: top;\n",
       "    }\n",
       "\n",
       "    .dataframe thead th {\n",
       "        text-align: right;\n",
       "    }\n",
       "</style>\n",
       "<table border=\"1\" class=\"dataframe\">\n",
       "  <thead>\n",
       "    <tr style=\"text-align: right;\">\n",
       "      <th></th>\n",
       "      <th>CHAS</th>\n",
       "      <th>CRIM</th>\n",
       "      <th>ZN</th>\n",
       "      <th>INDUS</th>\n",
       "      <th>NOX</th>\n",
       "      <th>RM</th>\n",
       "      <th>AGE</th>\n",
       "      <th>DIS</th>\n",
       "      <th>RAD</th>\n",
       "      <th>TAX</th>\n",
       "      <th>PTRATIO</th>\n",
       "      <th>B</th>\n",
       "      <th>LSTAT</th>\n",
       "    </tr>\n",
       "  </thead>\n",
       "  <tbody>\n",
       "    <tr>\n",
       "      <th>0</th>\n",
       "      <td>NaN</td>\n",
       "      <td>NaN</td>\n",
       "      <td>NaN</td>\n",
       "      <td>NaN</td>\n",
       "      <td>NaN</td>\n",
       "      <td>NaN</td>\n",
       "      <td>NaN</td>\n",
       "      <td>NaN</td>\n",
       "      <td>NaN</td>\n",
       "      <td>NaN</td>\n",
       "      <td>NaN</td>\n",
       "      <td>NaN</td>\n",
       "      <td>NaN</td>\n",
       "    </tr>\n",
       "  </tbody>\n",
       "</table>\n",
       "</div>"
      ],
      "text/plain": [
       "  CHAS CRIM   ZN INDUS  NOX   RM  AGE  DIS  RAD  TAX PTRATIO    B LSTAT\n",
       "0  NaN  NaN  NaN   NaN  NaN  NaN  NaN  NaN  NaN  NaN     NaN  NaN   NaN"
      ]
     },
     "execution_count": 441,
     "metadata": {},
     "output_type": "execute_result"
    }
   ],
   "source": [
    "nan_frame = pd.DataFrame(columns=catagorical_features+numerical_features, index=[0])\n",
    "nan_frame"
   ]
  },
  {
   "cell_type": "code",
   "execution_count": 442,
   "metadata": {},
   "outputs": [
    {
     "name": "stdout",
     "output_type": "stream",
     "text": [
      "Expected value of the output (base value): 22.767\n"
     ]
    }
   ],
   "source": [
    "base_value = round(pipeline.predict(nan_frame)[0], 3)\n",
    "print(f\"Expected value of the output (base value): {base_value}\")"
   ]
  },
  {
   "cell_type": "code",
   "execution_count": 403,
   "metadata": {},
   "outputs": [
    {
     "data": {
      "text/html": [
       "<div>\n",
       "<style scoped>\n",
       "    .dataframe tbody tr th:only-of-type {\n",
       "        vertical-align: middle;\n",
       "    }\n",
       "\n",
       "    .dataframe tbody tr th {\n",
       "        vertical-align: top;\n",
       "    }\n",
       "\n",
       "    .dataframe thead th {\n",
       "        text-align: right;\n",
       "    }\n",
       "</style>\n",
       "<table border=\"1\" class=\"dataframe\">\n",
       "  <thead>\n",
       "    <tr style=\"text-align: right;\">\n",
       "      <th></th>\n",
       "      <th>CRIM</th>\n",
       "      <th>ZN</th>\n",
       "      <th>INDUS</th>\n",
       "      <th>CHAS</th>\n",
       "      <th>NOX</th>\n",
       "      <th>RM</th>\n",
       "      <th>AGE</th>\n",
       "      <th>DIS</th>\n",
       "      <th>RAD</th>\n",
       "      <th>TAX</th>\n",
       "      <th>PTRATIO</th>\n",
       "      <th>B</th>\n",
       "      <th>LSTAT</th>\n",
       "    </tr>\n",
       "  </thead>\n",
       "  <tbody>\n",
       "    <tr>\n",
       "      <th>455</th>\n",
       "      <td>4.75237</td>\n",
       "      <td>0.0</td>\n",
       "      <td>18.1</td>\n",
       "      <td>0.0</td>\n",
       "      <td>0.713</td>\n",
       "      <td>6.525</td>\n",
       "      <td>86.5</td>\n",
       "      <td>2.4358</td>\n",
       "      <td>24.0</td>\n",
       "      <td>666.0</td>\n",
       "      <td>20.2</td>\n",
       "      <td>50.92</td>\n",
       "      <td>18.13</td>\n",
       "    </tr>\n",
       "  </tbody>\n",
       "</table>\n",
       "</div>"
      ],
      "text/plain": [
       "        CRIM   ZN  INDUS  CHAS    NOX     RM   AGE     DIS   RAD    TAX  \\\n",
       "455  4.75237  0.0   18.1   0.0  0.713  6.525  86.5  2.4358  24.0  666.0   \n",
       "\n",
       "     PTRATIO      B  LSTAT  \n",
       "455     20.2  50.92  18.13  "
      ]
     },
     "execution_count": 403,
     "metadata": {},
     "output_type": "execute_result"
    }
   ],
   "source": [
    "X_test.iloc[0: 1]"
   ]
  },
  {
   "cell_type": "code",
   "execution_count": 471,
   "metadata": {},
   "outputs": [
    {
     "name": "stdout",
     "output_type": "stream",
     "text": [
      "Current Prediction: 15.851, Actual value: 14.1\n"
     ]
    }
   ],
   "source": [
    "sample_prediction = round(pipeline.predict(X_test.iloc[0: 1])[0], 3)\n",
    "print(f\"Current Prediction: {sample_prediction}, Actual value: {y_test[0]}\")"
   ]
  },
  {
   "cell_type": "markdown",
   "metadata": {},
   "source": [
    "**How did we get from 22.767 to 15.851?**\n",
    "- Find this by adjusting individual feature values. But this can be hard to look at\n",
    "- Fast way to visualize is with Partial Dependency Plots (which uses Shap values for individual samples)\n",
    "- Shap values assign a contributing factor to every feature of every sample"
   ]
  },
  {
   "cell_type": "markdown",
   "metadata": {},
   "source": [
    "## Partial Dependence Plots"
   ]
  },
  {
   "cell_type": "code",
   "execution_count": 472,
   "metadata": {},
   "outputs": [
    {
     "name": "stderr",
     "output_type": "stream",
     "text": [
      "Permutation explainer: 52it [00:10,  2.68s/it]                        \n"
     ]
    }
   ],
   "source": [
    "explainer = shap.Explainer(pipeline.predict, X_train)\n",
    "shap_values = explainer(X_test)"
   ]
  },
  {
   "cell_type": "code",
   "execution_count": 447,
   "metadata": {},
   "outputs": [],
   "source": [
    "def partial_dependence_plot(feature, idx=None):\n",
    "    if idx is None: # visualize all samples\n",
    "        shap.plots.partial_dependence(\n",
    "            feature,\n",
    "            pipeline.predict,\n",
    "            X_train, \n",
    "            ice=False,\n",
    "            model_expected_value=True, \n",
    "            feature_expected_value=True)\n",
    "    else: # visualize sample idx\n",
    "        shap.partial_dependence_plot(\n",
    "            feature, \n",
    "            pipeline.predict,\n",
    "            X_train, \n",
    "            ice=False,\n",
    "            model_expected_value=True, \n",
    "            feature_expected_value=True,\n",
    "            shap_values=shap_values[idx:idx+1,:])"
   ]
  },
  {
   "cell_type": "code",
   "execution_count": 467,
   "metadata": {},
   "outputs": [
    {
     "data": {
      "image/png": "[encoded data removed]",
      "text/plain": [
       "<Figure size 432x288 with 4 Axes>"
      ]
     },
     "metadata": {
      "needs_background": "light"
     },
     "output_type": "display_data"
    }
   ],
   "source": [
    "partial_dependence_plot('CRIM', 0)"
   ]
  },
  {
   "cell_type": "code",
   "execution_count": 459,
   "metadata": {
    "scrolled": true
   },
   "outputs": [
    {
     "data": {
      "image/png": "[encoded data removed]",
      "text/plain": [
       "<Figure size 432x288 with 4 Axes>"
      ]
     },
     "metadata": {
      "needs_background": "light"
     },
     "output_type": "display_data"
    }
   ],
   "source": [
    "partial_dependence_plot('RAD', 0)"
   ]
  },
  {
   "cell_type": "code",
   "execution_count": 460,
   "metadata": {},
   "outputs": [
    {
     "data": {
      "image/png": "[encoded data removed]",
      "text/plain": [
       "<Figure size 432x288 with 4 Axes>"
      ]
     },
     "metadata": {
      "needs_background": "light"
     },
     "output_type": "display_data"
    }
   ],
   "source": [
    "partial_dependence_plot('AGE', 0)"
   ]
  },
  {
   "cell_type": "markdown",
   "metadata": {},
   "source": [
    "## Shap Plots"
   ]
  },
  {
   "cell_type": "markdown",
   "metadata": {},
   "source": [
    "Hard to look at every feature for every sample. So lets look at all features of the same sample"
   ]
  },
  {
   "cell_type": "code",
   "execution_count": 25,
   "metadata": {},
   "outputs": [],
   "source": [
    "def sample_feature_importance(idx, type='condensed'):\n",
    "    if type == 'condensed':\n",
    "        return shap.plots.force(shap_values[idx])\n",
    "    elif type == 'waterfall':\n",
    "        return shap.plots.waterfall(shap_values[idx])\n",
    "    else:\n",
    "        return \"Return valid visual ('condensed', 'waterfall')\""
   ]
  },
  {
   "cell_type": "code",
   "execution_count": 26,
   "metadata": {},
   "outputs": [
    {
     "data": {
      "image/png": "[encoded data removed]",
      "text/plain": [
       "<Figure size 576x468 with 3 Axes>"
      ]
     },
     "metadata": {},
     "output_type": "display_data"
    }
   ],
   "source": [
    "sample_feature_importance(0, 'waterfall')"
   ]
  },
  {
   "cell_type": "code",
   "execution_count": 27,
   "metadata": {},
   "outputs": [
    {
     "data": {
      "text/html": [
       "\n",
       "<div id='i4I2K1VOSML4E5NOX1D1M'>\n",
       "<div style='color: #900; text-align: center;'>\n",
       "  <b>Visualization omitted, Javascript library not loaded!</b><br>\n",
       "  Have you run `initjs()` in this notebook? If this notebook was from another\n",
       "  user you must also trust this notebook (File -> Trust notebook). If you are viewing\n",
       "  this notebook on github the Javascript has been stripped for security. If you are using\n",
       "  JupyterLab this error is because a JupyterLab extension has not yet been written.\n",
       "</div></div>\n",
       " <script>\n",
       "   if (window.SHAP) SHAP.ReactDom.render(\n",
       "    SHAP.React.createElement(SHAP.AdditiveForceVisualizer, {\"outNames\": [\"f(x)\"], \"baseValue\": 23.376356774133114, \"outValue\": 15.85070291633434, \"link\": \"identity\", \"featureNames\": [\"CRIM\", \"ZN\", \"INDUS\", \"CHAS\", \"NOX\", \"RM\", \"AGE\", \"DIS\", \"RAD\", \"TAX\", \"PTRATIO\", \"B\", \"LSTAT\"], \"features\": {\"0\": {\"effect\": -0.16184060134215805, \"value\": 4.75237}, \"1\": {\"effect\": -0.6680488063971942, \"value\": 0.0}, \"2\": {\"effect\": 0.26613896480929455, \"value\": 18.1}, \"3\": {\"effect\": -0.15053037783962353, \"value\": 0.0}, \"4\": {\"effect\": -2.935264244863588, \"value\": 0.713}, \"5\": {\"effect\": 0.8134950429766445, \"value\": 6.525}, \"6\": {\"effect\": 0.20583620561984756, \"value\": 86.5}, \"7\": {\"effect\": 2.0567613272198986, \"value\": 2.4358}, \"8\": {\"effect\": 5.591109868164021, \"value\": 24.0}, \"9\": {\"effect\": -4.464475202450288, \"value\": 666.0}, \"10\": {\"effect\": -1.770777013588899, \"value\": 20.2}, \"11\": {\"effect\": -3.050245782148294, \"value\": 50.92}, \"12\": {\"effect\": -3.2578132379584357, \"value\": 18.13}}, \"plot_cmap\": \"RdBu\", \"labelMargin\": 20}),\n",
       "    document.getElementById('i4I2K1VOSML4E5NOX1D1M')\n",
       "  );\n",
       "</script>"
      ],
      "text/plain": [
       "<shap.plots._force.AdditiveForceVisualizer at 0x10eee0dd0>"
      ]
     },
     "execution_count": 27,
     "metadata": {},
     "output_type": "execute_result"
    }
   ],
   "source": [
    "sample_feature_importance(0, 'condensed')"
   ]
  },
  {
   "cell_type": "markdown",
   "metadata": {},
   "source": [
    "## Feature Importance for model"
   ]
  },
  {
   "cell_type": "markdown",
   "metadata": {},
   "source": [
    "Looking at individual samples can be a bother. Let's look at all samples together"
   ]
  },
  {
   "cell_type": "code",
   "execution_count": 29,
   "metadata": {},
   "outputs": [
    {
     "data": {
      "image/png": "[encoded data removed]",
      "text/plain": [
       "<Figure size 576x468 with 1 Axes>"
      ]
     },
     "metadata": {},
     "output_type": "display_data"
    }
   ],
   "source": [
    "shap.plots.bar(shap_values)"
   ]
  },
  {
   "cell_type": "markdown",
   "metadata": {},
   "source": [
    "Two most important features according to the LinearRegression model:\n",
    "- RAD: index of accessibility to radial highways\n",
    "- TAX: full-value property-tax rate per $10,000"
   ]
  },
  {
   "cell_type": "code",
   "execution_count": 30,
   "metadata": {},
   "outputs": [
    {
     "data": {
      "image/png": "[encoded data removed]",
      "text/plain": [
       "<Figure size 576x482.4 with 1 Axes>"
      ]
     },
     "metadata": {
      "needs_background": "light"
     },
     "output_type": "display_data"
    }
   ],
   "source": [
    "shap.summary_plot(shap_values.values, X_train, plot_type='bar')"
   ]
  },
  {
   "cell_type": "markdown",
   "metadata": {},
   "source": [
    "We can interpret the neural network model in the same way"
   ]
  },
  {
   "cell_type": "code",
   "execution_count": 469,
   "metadata": {},
   "outputs": [
    {
     "name": "stdout",
     "output_type": "stream",
     "text": [
      "Epoch 0, Loss: 5532.401672363281\n",
      "Epoch 10, Loss: 304.7394337654114\n",
      "Epoch 20, Loss: 218.35084056854248\n",
      "Epoch 30, Loss: 214.18715953826904\n",
      "Epoch 40, Loss: 213.2113437652588\n",
      "\n",
      "train MAE = 3.394, test MAE = 2.506 \n"
     ]
    }
   ],
   "source": [
    "preprocessed_X_train = mapper.fit_transform(X_train)\n",
    "\n",
    "num_epochs = 50\n",
    "learning_rate = 0.01\n",
    "hidden_size = 32\n",
    "batch_size = 50\n",
    "input_dim = preprocessed_X_train.shape[1]\n",
    "batch_no = preprocessed_X_train.shape[0] // batch_size\n",
    "model = nn.Sequential(\n",
    "    nn.Linear(input_dim, hidden_size),\n",
    "    nn.Linear(hidden_size, 1)\n",
    ")\n",
    "criterion = nn.MSELoss()\n",
    "optimizer = optim.Adam(model.parameters(), lr=learning_rate)\n",
    "\n",
    "for epoch in range(num_epochs):\n",
    "    running_loss = 0.0\n",
    "    for i in range(batch_no):\n",
    "        start = i * batch_size\n",
    "        end = start + batch_size\n",
    "        x_batch = Variable(torch.FloatTensor(preprocessed_X_train.values[start:end]))\n",
    "        y_batch = Variable(torch.FloatTensor(y_train[start:end]))\n",
    "        optimizer.zero_grad()\n",
    "        y_preds = model(x_batch)\n",
    "        loss = criterion(y_preds, torch.unsqueeze(y_batch,dim=1))\n",
    "        loss.backward()\n",
    "        optimizer.step()\n",
    "        running_loss += loss.item()\n",
    "    if epoch % 10 == 0: \n",
    "        print(\"Epoch {}, Loss: {}\".format(epoch, running_loss))\n",
    "        \n",
    "preprocessed_X_test = mapper.transform(X_test)\n",
    "y_pred = model(torch.from_numpy(preprocessed_X_test.values).float()).flatten().detach().numpy()\n",
    "test_mae = mean_absolute_error(y_test, y_pred)\n",
    "preprocessed_X_train = mapper.transform(X_train)\n",
    "y_pred = model(torch.from_numpy(preprocessed_X_train.values).float()).flatten().detach().numpy()\n",
    "train_mae = mean_absolute_error(y_train, y_pred)\n",
    "print(f\"\\ntrain MAE = {round(train_mae, 3)}, test MAE = {round(test_mae, 3)} \")"
   ]
  },
  {
   "cell_type": "code",
   "execution_count": 470,
   "metadata": {},
   "outputs": [
    {
     "name": "stderr",
     "output_type": "stream",
     "text": [
      "Using a non-full backward hook when the forward contains multiple autograd Nodes is deprecated and will be removed in future versions. This hook will be missing some grad_input. Please use register_full_backward_hook to get the documented behavior.\n"
     ]
    },
    {
     "data": {
      "image/png": "[encoded data removed]",
      "text/plain": [
       "<Figure size 576x482.4 with 1 Axes>"
      ]
     },
     "metadata": {
      "needs_background": "light"
     },
     "output_type": "display_data"
    }
   ],
   "source": [
    "explainer = shap.DeepExplainer(model, torch.from_numpy(preprocessed_X_train.values).float())\n",
    "shap_values = explainer.shap_values(torch.from_numpy(preprocessed_X_test.values).float())\n",
    "shap.summary_plot(shap_values, X_test, plot_type='bar')"
   ]
  },
  {
   "cell_type": "markdown",
   "metadata": {},
   "source": [
    "Most important features for this neural network:\n",
    "- DIS: weighted distances to five Boston employment centres\n",
    "- RAD: index of accessibility to radial highways"
   ]
  },
  {
   "cell_type": "markdown",
   "metadata": {},
   "source": [
    "References:\n",
    "1. https://github.com/slundberg/shap\n",
    "2. https://acerta.ai/blog/understanding-machine-learning-with-shap-analysis/\n",
    "3. https://towardsdatascience.com/introduction-to-shap-values-and-their-application-in-machine-learning-8003718e6827\n",
    "4. https://christophm.github.io/interpretable-ml-book/shapley.html#the-shapley-value-in-detail\n",
    "5. https://arxiv.org/pdf/1705.07874.pdf"
   ]
  }
 ],
 "metadata": {
  "kernelspec": {
   "display_name": "Python 3 (ipykernel)",
   "language": "python",
   "name": "python3"
  },
  "language_info": {
   "codemirror_mode": {
    "name": "ipython",
    "version": 3
   },
   "file_extension": ".py",
   "mimetype": "text/x-python",
   "name": "python",
   "nbconvert_exporter": "python",
   "pygments_lexer": "ipython3",
   "version": "3.9.13"
  }
 },
 "nbformat": 4,
 "nbformat_minor": 4
}
